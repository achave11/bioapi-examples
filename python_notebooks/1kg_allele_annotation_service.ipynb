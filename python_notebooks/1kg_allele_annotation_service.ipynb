{
 "cells": [
  {
   "cell_type": "markdown",
   "metadata": {},
   "source": [
    "## GA4GH 1000 Genome Variant Service Example\n",
    "This example illustrates how to access the different variant calls implemented within the variant service."
   ]
  },
  {
   "cell_type": "markdown",
   "metadata": {},
   "source": [
    "### Initialize the client\n",
    "In this step we create a client object which will be used to communicate with the server. It is initialized using the URL."
   ]
  },
  {
   "cell_type": "code",
   "execution_count": 1,
   "metadata": {
    "collapsed": true
   },
   "outputs": [],
   "source": [
    "import ga4gh.client as client\n",
    "c = client.HttpClient(\"http://1kgenomes.ga4gh.org\")"
   ]
  },
  {
   "cell_type": "markdown",
   "metadata": {},
   "source": [
    "### Search variant annotation sets method\n",
    "Response returns a list of sets of variant annotations, with the pertaining info fields"
   ]
  },
  {
   "cell_type": "code",
   "execution_count": 25,
   "metadata": {
    "collapsed": false
   },
   "outputs": [
    {
     "name": "stdout",
     "output_type": "stream",
     "text": [
      "\n",
      "Name: functional-annotation,\n",
      "\tId: WyIxa2dlbm9tZXMiLCJ2cyIsImZ1bmN0aW9uYWwtYW5ub3RhdGlvbiIsImZ1bmN0aW9uYWwtYW5ub3RhdGlvbiJd,\n",
      "\tVariant Set Id: WyIxa2dlbm9tZXMiLCJ2cyIsImZ1bmN0aW9uYWwtYW5ub3RhdGlvbiJd\n",
      "\tAnalysis Id: WyIxa2dlbm9tZXMiLCJ2cyIsImZ1bmN0aW9uYWwtYW5ub3RhdGlvbiIsImZ1bmN0aW9uYWwtYW5ub3RhdGlvbiIsImFuYWx5c2lzIl0,\n",
      "\tAnalysis Created: 2014-07-30T00:00:00Z,\n",
      "INFO.ALOFT: \tThe Annotation Of Loss-of-Function Transcripts, provides extensive functional annotations to loss-of-function variants in the human genome, https://github.com/gersteinlab/aloft\n",
      "INFO.MLEN: \tEstimated length of mitochondrial insert\n",
      "reference: \tftp://ftp.1000genomes.ebi.ac.uk//vol1/ftp/technical/reference/phase2_reference_assembly_sequence/hs37d5.fa.gz\n",
      "INFO.GENCODE: \tThe annotation of coding variants and splice site variants\n",
      "INFO.SVTYPE: \tType of structural variant\n",
      "INFO.NS: \tNumber of samples with data\n",
      "INFO.DP: \tTotal read depth\n",
      "INFO.ERB: \tEnsembl Regulatory Build. Format: Allele|Gene|Feature|Feature_type|Consequence\n",
      "INFO.AFR_AF: \tAllele frequency in the AFR populations calculated from AC and AN, in the range (0,1)\n",
      "FORMAT.GT: \tGenotype\n",
      "fileDate: \t20140730\n",
      "INFO.AMR_AF: \tAllele frequency in the AMR populations calculated from AC and AN, in the range (0,1)\n",
      "INFO.SVLEN: \tDifference in length between REF and ALT alleles\n",
      "INFO.MEINFO: \tMobile element info of the form NAME,START,END<POLARITY; If there is only 5' OR 3' support for this call, will be NULL NULL for START and END\n",
      "source: \t1000GenomesPhase3Pipeline\n",
      "INFO.SAS_AF: \tAllele frequency in the SAS populations calculated from AC and AN, in the range (0,1)\n",
      "INFO.EUR_AF: \tAllele frequency in the EUR populations calculated from AC and AN, in the range (0,1)\n",
      "INFO.CIPOS: \tConfidence interval around POS for imprecise variants\n",
      "VEP: \tv77 cache=/data/blastdb/Ensembl/vep/homo_sapiens/77_GRCh37 db=.\n",
      "INFO.IMPRECISE: \tImprecise structural variation\n",
      "INFO.MSTART: \tMitochondrial start coordinate of inserted sequence\n",
      "INFO.CSQ: \tConsequence type as predicted by VEP WITH -PICK_ALLELE parameter. Format: Allele|Gene|Feature|Feature_type|Consequence|cDNA_position|CDS_position|Protein_position|Amino_acids|Codons|Existing_variation|DISTANCE|STRAND|SIFT|PolyPhen|MOTIF_NAME|MOTIF_POS|HIGH_INF_POS|MOTIF_SCORE_CHANGE\n",
      "INFO.AC: \tTotal number of alternate alleles in called genotypes\n",
      "INFO.AA: \tAncestral Allele. Format: AA|REF|ALT|IndelType. AA: Ancestral allele, REF:Reference Allele, ALT:Alternate Allele, IndelType:Type of Indel (REF, ALT and IndelType are only defined for indels)\n",
      "INFO.AF: \tEstimated allele frequency in the range (0,1)\n",
      "INFO.FUNSEQ: \tFunSeq score for noncoding SNV\n",
      "INFO.TSD: \tPrecise Target Site Duplication for bases, if unknown, value will be NULL\n",
      "INFO.END: \tEnd coordinate of this variant\n",
      "INFO.CS: \tSource call set.\n",
      "INFO.AN: \tTotal number of alleles in called genotypes\n",
      "INFO.PHOSPHORYLATION: \tPredicted as phosphorylation sites by Phosphosite.org. Format: Uniprot Identifier of phosphorylated protein|Position in Uniprot sequence of phosphorylation site|Number of low throughput experiments this site has been seen in|Number of high throughput experiments this site has been seen in\n",
      "INFO.MC: \tMerged calls.\n",
      "INFO.HighD: \tThe Super population with the higher derived allele frequency for the highD site\n",
      "INFO.MEND: \tMitochondrial end coordinate of inserted sequence\n",
      "INFO.CIEND: \tConfidence interval around END for imprecise variants\n",
      "INFO.EAS_AF: \tAllele frequency in the EAS populations calculated from AC and AN, in the range (0,1)\n",
      "fileformat: \tVCFv4.1\n"
     ]
    }
   ],
   "source": [
    "counter = 5\n",
    "for variant_annotation_sets in c.search_variant_annotation_sets(variant_set_id=\"WyIxa2dlbm9tZXMiLCJ2cyIsImZ1bmN0aW9uYWwtYW5ub3RhdGlvbiJd\"):\n",
    "    if counter <= 0 :\n",
    "        break\n",
    "    counter -= 1\n",
    "    print \"\\nName: {},\\n\\tId: {},\\n\\tVariant Set Id: {}\\n\\tAnalysis Id: {},\\n\\tAnalysis Created: {},\".format(\n",
    "        variant_annotation_sets.name, variant_annotation_sets.id, variant_annotation_sets.variant_set_id,\n",
    "        variant_annotation_sets.analysis.id, variant_annotation_sets.analysis.created)\n",
    "    for info in variant_annotation_sets.analysis.info:\n",
    "        print\"{}: \\t{}\".format(info, variant_annotation_sets.analysis.info[info].values[0].string_value)\n"
   ]
  },
  {
   "cell_type": "markdown",
   "metadata": {},
   "source": [
    "### Search variant annotations method\n",
    "This request returns --- "
   ]
  },
  {
   "cell_type": "code",
   "execution_count": 27,
   "metadata": {
    "collapsed": false
   },
   "outputs": [
    {
     "name": "stdout",
     "output_type": "stream",
     "text": [
      "<generator object _run_search_request at 0x107c1dbe0>\n"
     ]
    }
   ],
   "source": [
    "variant_annotations = c.search_variant_annotations(variant_annotation_set_id=\"WyIxa2dlbm9tZXMiLCJ2cyIsImZ1bmN0aW9uYWwtYW5ub3RhdGlvbiIsImZ1bmN0aW9uYWwtYW5ub3RhdGlvbiJd\").next()\n",
    "print variant_annotations"
   ]
  },
  {
   "cell_type": "code",
   "execution_count": null,
   "metadata": {
    "collapsed": true
   },
   "outputs": [],
   "source": []
  }
 ],
 "metadata": {
  "kernelspec": {
   "display_name": "Python 2",
   "language": "python",
   "name": "python2"
  },
  "language_info": {
   "codemirror_mode": {
    "name": "ipython",
    "version": 2
   },
   "file_extension": ".py",
   "mimetype": "text/x-python",
   "name": "python",
   "nbconvert_exporter": "python",
   "pygments_lexer": "ipython2",
   "version": "2.7.11"
  }
 },
 "nbformat": 4,
 "nbformat_minor": 1
}
