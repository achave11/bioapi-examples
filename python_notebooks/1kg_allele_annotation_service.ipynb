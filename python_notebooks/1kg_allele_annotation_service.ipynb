{
 "cells": [
  {
   "cell_type": "markdown",
   "metadata": {},
   "source": [
    "## GA4GH 1000 Genome Variant Service Example\n",
    "This example illustrates how to access the different variant calls implemented within the variant service."
   ]
  },
  {
   "cell_type": "markdown",
   "metadata": {},
   "source": [
    "### Initialize the client\n",
    "In this step we create a client object which will be used to communicate with the server. It is initialized using the URL."
   ]
  },
  {
   "cell_type": "code",
   "execution_count": 1,
   "metadata": {
    "collapsed": true
   },
   "outputs": [],
   "source": [
    "import ga4gh.client as client\n",
    "c = client.HttpClient(\"http://1kgenomes.ga4gh.org\")"
   ]
  },
  {
   "cell_type": "markdown",
   "metadata": {},
   "source": [
    "### Search variant annotation sets method\n",
    "Response returns a list of sets of variant annotations, with the pertaining info fields"
   ]
  },
  {
   "cell_type": "code",
   "execution_count": 4,
   "metadata": {
    "collapsed": false
   },
   "outputs": [
    {
     "name": "stdout",
     "output_type": "stream",
     "text": [
      "\n",
      "Name: functional-annotation,\n",
      " Id: WyIxa2dlbm9tZXMiLCJ2cyIsImZ1bmN0aW9uYWwtYW5ub3RhdGlvbiIsImZ1bmN0aW9uYWwtYW5ub3RhdGlvbiJd,\n",
      " Variant Set Id: WyIxa2dlbm9tZXMiLCJ2cyIsImZ1bmN0aW9uYWwtYW5ub3RhdGlvbiJd,\n",
      " Analysis Id: WyIxa2dlbm9tZXMiLCJ2cyIsImZ1bmN0aW9uYWwtYW5ub3RhdGlvbiIsImZ1bmN0aW9uYWwtYW5ub3RhdGlvbiIsImFuYWx5c2lzIl0,\n",
      " Analysis Created: 2014-07-30T00:00:00Z\n",
      "\n",
      "INFO.ALOFT:   The Annotation Of Loss-of-Function Transcripts, provides extensive functional annotations to loss-of-function variants in the human genome, https://github.com/gersteinlab/aloft\n",
      "INFO.MLEN:   Estimated length of mitochondrial insert\n",
      "reference:   ftp://ftp.1000genomes.ebi.ac.uk//vol1/ftp/technical/reference/phase2_reference_assembly_sequence/hs37d5.fa.gz\n",
      "INFO.GENCODE:   The annotation of coding variants and splice site variants\n",
      "INFO.SVTYPE:   Type of structural variant\n",
      "INFO.NS:   Number of samples with data\n",
      "INFO.DP:   Total read depth\n",
      "INFO.ERB:   Ensembl Regulatory Build. Format: Allele|Gene|Feature|Feature_type|Consequence\n",
      "INFO.AFR_AF:   Allele frequency in the AFR populations calculated from AC and AN, in the range (0,1)\n",
      "FORMAT.GT:   Genotype\n",
      "fileDate:   20140730\n",
      "INFO.AMR_AF:   Allele frequency in the AMR populations calculated from AC and AN, in the range (0,1)\n",
      "INFO.SVLEN:   Difference in length between REF and ALT alleles\n",
      "INFO.MEINFO:   Mobile element info of the form NAME,START,END<POLARITY; If there is only 5' OR 3' support for this call, will be NULL NULL for START and END\n",
      "source:   1000GenomesPhase3Pipeline\n",
      "INFO.SAS_AF:   Allele frequency in the SAS populations calculated from AC and AN, in the range (0,1)\n",
      "INFO.EUR_AF:   Allele frequency in the EUR populations calculated from AC and AN, in the range (0,1)\n",
      "INFO.CIPOS:   Confidence interval around POS for imprecise variants\n",
      "VEP:   v77 cache=/data/blastdb/Ensembl/vep/homo_sapiens/77_GRCh37 db=.\n",
      "INFO.IMPRECISE:   Imprecise structural variation\n",
      "INFO.MSTART:   Mitochondrial start coordinate of inserted sequence\n",
      "INFO.CSQ:   Consequence type as predicted by VEP WITH -PICK_ALLELE parameter. Format: Allele|Gene|Feature|Feature_type|Consequence|cDNA_position|CDS_position|Protein_position|Amino_acids|Codons|Existing_variation|DISTANCE|STRAND|SIFT|PolyPhen|MOTIF_NAME|MOTIF_POS|HIGH_INF_POS|MOTIF_SCORE_CHANGE\n",
      "INFO.AC:   Total number of alternate alleles in called genotypes\n",
      "INFO.AA:   Ancestral Allele. Format: AA|REF|ALT|IndelType. AA: Ancestral allele, REF:Reference Allele, ALT:Alternate Allele, IndelType:Type of Indel (REF, ALT and IndelType are only defined for indels)\n",
      "INFO.AF:   Estimated allele frequency in the range (0,1)\n",
      "INFO.FUNSEQ:   FunSeq score for noncoding SNV\n",
      "INFO.TSD:   Precise Target Site Duplication for bases, if unknown, value will be NULL\n",
      "INFO.END:   End coordinate of this variant\n",
      "INFO.CS:   Source call set.\n",
      "INFO.AN:   Total number of alleles in called genotypes\n",
      "INFO.PHOSPHORYLATION:   Predicted as phosphorylation sites by Phosphosite.org. Format: Uniprot Identifier of phosphorylated protein|Position in Uniprot sequence of phosphorylation site|Number of low throughput experiments this site has been seen in|Number of high throughput experiments this site has been seen in\n",
      "INFO.MC:   Merged calls.\n",
      "INFO.HighD:   The Super population with the higher derived allele frequency for the highD site\n",
      "INFO.MEND:   Mitochondrial end coordinate of inserted sequence\n",
      "INFO.CIEND:   Confidence interval around END for imprecise variants\n",
      "INFO.EAS_AF:   Allele frequency in the EAS populations calculated from AC and AN, in the range (0,1)\n",
      "fileformat:   VCFv4.1\n"
     ]
    }
   ],
   "source": [
    "for variant_annotation_sets in c.search_variant_annotation_sets(variant_set_id=\"WyIxa2dlbm9tZXMiLCJ2cyIsImZ1bmN0aW9uYWwtYW5ub3RhdGlvbiJd\"):\n",
    "    print \"\\nName: {},\".format(variant_annotation_sets.name)\n",
    "    print\" Id: {},\".format(variant_annotation_sets.id)\n",
    "    print\" Variant Set Id: {},\".format(variant_annotation_sets.variant_set_id)\n",
    "    print\" Analysis Id: {},\".format(variant_annotation_sets.analysis.id)\n",
    "    print\" Analysis Created: {}\\n\".format(variant_annotation_sets.analysis.created)\n",
    "    for info in variant_annotation_sets.analysis.info:\n",
    "        print\"{}:   {}\".format(info, variant_annotation_sets.analysis.info[info].values[0].string_value)\n"
   ]
  },
  {
   "cell_type": "markdown",
   "metadata": {},
   "source": [
    "### Search variant annotations method\n",
    "This request returns --- "
   ]
  },
  {
   "cell_type": "code",
   "execution_count": 10,
   "metadata": {
    "collapsed": false
   },
   "outputs": [
    {
     "name": "stdout",
     "output_type": "stream",
     "text": [
      "Id: WyIxa2dlbm9tZXMiLCJ2cyIsImZ1bmN0aW9uYWwtYW5ub3RhdGlvbiIsImZ1bmN0aW9uYWwtYW5ub3RhdGlvbiIsIjEiLCIxMDE3NiIsIjhjYjI5MGJhNTcyNzlmNjg1MDc4ZGUwZGNmMGNjYzJiIl0,\n",
      " Variant Id: WyIxa2dlbm9tZXMiLCJ2cyIsImZ1bmN0aW9uYWwtYW5ub3RhdGlvbiIsIjEiLCIxMDE3NiIsImQwMTZjNGUxYWRjYWQ1ZDFiYzg5YzJjYTRhZGJhM2E4Il0,\n",
      " Variant Annotation Set Id: WyIxa2dlbm9tZXMiLCJ2cyIsImZ1bmN0aW9uYWwtYW5ub3RhdGlvbiIsImZ1bmN0aW9uYWwtYW5ub3RhdGlvbiJd\n",
      " Created: 2014-07-30T00:00:00Z\n",
      " Transcript Effects Id: 4ef6c08cbb50fec318e9815d897e511f,\n",
      " Featured Id: ENST00000456328,\n",
      " Alternate Bases: C,\n",
      " Effects Id: SO:0001631,\n",
      " Effect Term: upstream_gene_variant,\n",
      " Effect Sorce Name: so-xp,\n",
      " Effect Source Version: so-xp/releases/2015-11-24/so-xp.owl\n",
      "\n",
      "Id: WyIxa2dlbm9tZXMiLCJ2cyIsImZ1bmN0aW9uYWwtYW5ub3RhdGlvbiIsImZ1bmN0aW9uYWwtYW5ub3RhdGlvbiIsIjEiLCIxMDIzNCIsImZjZGQzZjU2MTMxNWUwMTM4YWNlMmE4MjA2NjllY2QyIl0,\n",
      " Variant Id: WyIxa2dlbm9tZXMiLCJ2cyIsImZ1bmN0aW9uYWwtYW5ub3RhdGlvbiIsIjEiLCIxMDIzNCIsIjBjZTM1MDcyNDQ2MTRjMzcwNWY1ZTJhYTJkMTBhZjI1Il0,\n",
      " Variant Annotation Set Id: WyIxa2dlbm9tZXMiLCJ2cyIsImZ1bmN0aW9uYWwtYW5ub3RhdGlvbiIsImZ1bmN0aW9uYWwtYW5ub3RhdGlvbiJd\n",
      " Created: 2014-07-30T00:00:00Z\n",
      " Transcript Effects Id: 36da0f368090af154c25b9f56266b920,\n",
      " Featured Id: ENST00000456328,\n",
      " Alternate Bases: A,\n",
      " Effects Id: SO:0001631,\n",
      " Effect Term: upstream_gene_variant,\n",
      " Effect Sorce Name: so-xp,\n",
      " Effect Source Version: so-xp/releases/2015-11-24/so-xp.owl\n",
      "\n",
      "Id: WyIxa2dlbm9tZXMiLCJ2cyIsImZ1bmN0aW9uYWwtYW5ub3RhdGlvbiIsImZ1bmN0aW9uYWwtYW5ub3RhdGlvbiIsIjEiLCIxMDM1MSIsImZjZGQzZjU2MTMxNWUwMTM4YWNlMmE4MjA2NjllY2QyIl0,\n",
      " Variant Id: WyIxa2dlbm9tZXMiLCJ2cyIsImZ1bmN0aW9uYWwtYW5ub3RhdGlvbiIsIjEiLCIxMDM1MSIsIjBjZTM1MDcyNDQ2MTRjMzcwNWY1ZTJhYTJkMTBhZjI1Il0,\n",
      " Variant Annotation Set Id: WyIxa2dlbm9tZXMiLCJ2cyIsImZ1bmN0aW9uYWwtYW5ub3RhdGlvbiIsImZ1bmN0aW9uYWwtYW5ub3RhdGlvbiJd\n",
      " Created: 2014-07-30T00:00:00Z\n",
      " Transcript Effects Id: 36da0f368090af154c25b9f56266b920,\n",
      " Featured Id: ENST00000456328,\n",
      " Alternate Bases: A,\n",
      " Effects Id: SO:0001631,\n",
      " Effect Term: upstream_gene_variant,\n",
      " Effect Sorce Name: so-xp,\n",
      " Effect Source Version: so-xp/releases/2015-11-24/so-xp.owl\n",
      "\n",
      "Id: WyIxa2dlbm9tZXMiLCJ2cyIsImZ1bmN0aW9uYWwtYW5ub3RhdGlvbiIsImZ1bmN0aW9uYWwtYW5ub3RhdGlvbiIsIjEiLCIxMDUwNCIsImU3MjNlNGE2MDc1Yjg5MTg0MTNjZjVjNDhmZGJiMzRmIl0,\n",
      " Variant Id: WyIxa2dlbm9tZXMiLCJ2cyIsImZ1bmN0aW9uYWwtYW5ub3RhdGlvbiIsIjEiLCIxMDUwNCIsIjRhY2NkZmI2ZjY5MmY0MWMzMTRkMDkyODU4ODJhNjg5Il0,\n",
      " Variant Annotation Set Id: WyIxa2dlbm9tZXMiLCJ2cyIsImZ1bmN0aW9uYWwtYW5ub3RhdGlvbiIsImZ1bmN0aW9uYWwtYW5ub3RhdGlvbiJd\n",
      " Created: 2014-07-30T00:00:00Z\n",
      " Transcript Effects Id: 7b6e7e2966c746e0b914425614e73a19,\n",
      " Featured Id: ENST00000456328,\n",
      " Alternate Bases: T,\n",
      " Effects Id: SO:0001631,\n",
      " Effect Term: upstream_gene_variant,\n",
      " Effect Sorce Name: so-xp,\n",
      " Effect Source Version: so-xp/releases/2015-11-24/so-xp.owl\n",
      "\n",
      "Id: WyIxa2dlbm9tZXMiLCJ2cyIsImZ1bmN0aW9uYWwtYW5ub3RhdGlvbiIsImZ1bmN0aW9uYWwtYW5ub3RhdGlvbiIsIjEiLCIxMDUwNSIsImNjNjYzYWU2ZDBkNjA4OTAwOTI3MGNkYmQ2MzYyYzk2Il0,\n",
      " Variant Id: WyIxa2dlbm9tZXMiLCJ2cyIsImZ1bmN0aW9uYWwtYW5ub3RhdGlvbiIsIjEiLCIxMDUwNSIsImM2MmQwYTNhODAyMmY4MTVkYThmNGNhYmE1Y2ViMzhkIl0,\n",
      " Variant Annotation Set Id: WyIxa2dlbm9tZXMiLCJ2cyIsImZ1bmN0aW9uYWwtYW5ub3RhdGlvbiIsImZ1bmN0aW9uYWwtYW5ub3RhdGlvbiJd\n",
      " Created: 2014-07-30T00:00:00Z\n",
      " Transcript Effects Id: 7754189c9696c039f4f65f58b87f4fc1,\n",
      " Featured Id: ENST00000456328,\n",
      " Alternate Bases: G,\n",
      " Effects Id: SO:0001631,\n",
      " Effect Term: upstream_gene_variant,\n",
      " Effect Sorce Name: so-xp,\n",
      " Effect Source Version: so-xp/releases/2015-11-24/so-xp.owl\n",
      "\n",
      "Id: WyIxa2dlbm9tZXMiLCJ2cyIsImZ1bmN0aW9uYWwtYW5ub3RhdGlvbiIsImZ1bmN0aW9uYWwtYW5ub3RhdGlvbiIsIjEiLCIxMDUxMCIsImU1ZDE3OTIyOWNlYjM5NTBlYjkzZDk0Y2FlNzAxOTI3Il0,\n",
      " Variant Id: WyIxa2dlbm9tZXMiLCJ2cyIsImZ1bmN0aW9uYWwtYW5ub3RhdGlvbiIsIjEiLCIxMDUxMCIsIjQ1YzRjZjA2Y2I1Y2RhYmE4NTEyYTE2MWU3MzJiNWMyIl0,\n",
      " Variant Annotation Set Id: WyIxa2dlbm9tZXMiLCJ2cyIsImZ1bmN0aW9uYWwtYW5ub3RhdGlvbiIsImZ1bmN0aW9uYWwtYW5ub3RhdGlvbiJd\n",
      " Created: 2014-07-30T00:00:00Z\n",
      " Transcript Effects Id: 36da0f368090af154c25b9f56266b920,\n",
      " Featured Id: ENST00000456328,\n",
      " Alternate Bases: A,\n",
      " Effects Id: SO:0001631,\n",
      " Effect Term: upstream_gene_variant,\n",
      " Effect Sorce Name: so-xp,\n",
      " Effect Source Version: so-xp/releases/2015-11-24/so-xp.owl\n",
      "\n"
     ]
    }
   ],
   "source": [
    "counter = 6\n",
    "for variant_annotations in c.search_variant_annotations(variant_annotation_set_id=\"WyIxa2dlbm9tZXMiLCJ2cyIsImZ1bmN0aW9uYWwtYW5ub3RhdGlvbiIsImZ1bmN0aW9uYWwtYW5ub3RhdGlvbiJd\", reference_name=\"1\", start=0, end=1000000):\n",
    "    if counter <= 0:\n",
    "        break\n",
    "    counter -= 1 \n",
    "    print\"Id: {},\".format(variant_annotations.id)\n",
    "    print\" Variant Id: {},\".format(variant_annotations.variant_id)\n",
    "    print\" Variant Annotation Set Id: {}\".format(variant_annotations.variant_annotation_set_id)\n",
    "    print\" Created: {}\".format(variant_annotations.created)\n",
    "    print\" Transcript Effects Id: {},\".format(variant_annotations.transcript_effects[0].id)\n",
    "    print\" Featured Id: {},\".format(variant_annotations.transcript_effects[0].feature_id)\n",
    "    print\" Alternate Bases: {},\".format(variant_annotations.transcript_effects[0].alternate_bases)\n",
    "    print\" Effects Id: {},\".format(variant_annotations.transcript_effects[0].effects[0].id)\n",
    "    print\" Effect Term: {},\".format(variant_annotations.transcript_effects[0].effects[0].term)\n",
    "    print\" Effect Sorce Name: {},\".format(variant_annotations.transcript_effects[0].effects[0].source_name)\n",
    "    print\" Effect Source Version: {}\\n\".format(variant_annotations.transcript_effects[0].effects[0].source_version)"
   ]
  },
  {
   "cell_type": "markdown",
   "metadata": {
    "collapsed": true
   },
   "source": [
    "### Get variant annotation set method\n",
    "This call returns a specific set when the id of the wanted set is provided."
   ]
  },
  {
   "cell_type": "code",
   "execution_count": 12,
   "metadata": {
    "collapsed": false
   },
   "outputs": [],
   "source": [
    "variant_annotation_set = c.get_variant_annotation_set(variant_annotation_set_id=\"WyIxa2dlbm9tZXMiLCJ2cyIsImZ1bmN0aW9uYWwtYW5ub3RhdGlvbiIsImZ1bmN0aW9uYWwtYW5ub3RhdGlvbiJd\")"
   ]
  },
  {
   "cell_type": "code",
   "execution_count": 15,
   "metadata": {
    "collapsed": false
   },
   "outputs": [
    {
     "name": "stdout",
     "output_type": "stream",
     "text": [
      "Name: functional-annotation\n",
      " Id: WyIxa2dlbm9tZXMiLCJ2cyIsImZ1bmN0aW9uYWwtYW5ub3RhdGlvbiIsImZ1bmN0aW9uYWwtYW5ub3RhdGlvbiJd \n",
      " Variant Set Id: WyIxa2dlbm9tZXMiLCJ2cyIsImZ1bmN0aW9uYWwtYW5ub3RhdGlvbiJd\n",
      " Analysis Id: WyIxa2dlbm9tZXMiLCJ2cyIsImZ1bmN0aW9uYWwtYW5ub3RhdGlvbiIsImZ1bmN0aW9uYWwtYW5ub3RhdGlvbiIsImFuYWx5c2lzIl0,\n",
      " Analysis Created: 2014-07-30T00:00:00Z,\n",
      "\n",
      "INFO.ALOFT:   The Annotation Of Loss-of-Function Transcripts, provides extensive functional annotations to loss-of-function variants in the human genome, https://github.com/gersteinlab/aloft,\n",
      "INFO.MLEN:   Estimated length of mitochondrial insert,\n",
      "reference:   ftp://ftp.1000genomes.ebi.ac.uk//vol1/ftp/technical/reference/phase2_reference_assembly_sequence/hs37d5.fa.gz,\n",
      "INFO.GENCODE:   The annotation of coding variants and splice site variants,\n",
      "INFO.SVTYPE:   Type of structural variant,\n",
      "INFO.NS:   Number of samples with data,\n",
      "INFO.DP:   Total read depth,\n",
      "INFO.AMR_AF:   Allele frequency in the AMR populations calculated from AC and AN, in the range (0,1),\n",
      "INFO.AFR_AF:   Allele frequency in the AFR populations calculated from AC and AN, in the range (0,1),\n",
      "FORMAT.GT:   Genotype,\n",
      "fileDate:   20140730,\n",
      "INFO.ERB:   Ensembl Regulatory Build. Format: Allele|Gene|Feature|Feature_type|Consequence,\n",
      "INFO.SVLEN:   Difference in length between REF and ALT alleles,\n",
      "INFO.MEINFO:   Mobile element info of the form NAME,START,END<POLARITY; If there is only 5' OR 3' support for this call, will be NULL NULL for START and END,\n",
      "source:   1000GenomesPhase3Pipeline,\n",
      "INFO.PHOSPHORYLATION:   Predicted as phosphorylation sites by Phosphosite.org. Format: Uniprot Identifier of phosphorylated protein|Position in Uniprot sequence of phosphorylation site|Number of low throughput experiments this site has been seen in|Number of high throughput experiments this site has been seen in,\n",
      "INFO.SAS_AF:   Allele frequency in the SAS populations calculated from AC and AN, in the range (0,1),\n",
      "INFO.EUR_AF:   Allele frequency in the EUR populations calculated from AC and AN, in the range (0,1),\n",
      "INFO.CIPOS:   Confidence interval around POS for imprecise variants,\n",
      "VEP:   v77 cache=/data/blastdb/Ensembl/vep/homo_sapiens/77_GRCh37 db=.,\n",
      "INFO.IMPRECISE:   Imprecise structural variation,\n",
      "INFO.MSTART:   Mitochondrial start coordinate of inserted sequence,\n",
      "INFO.CSQ:   Consequence type as predicted by VEP WITH -PICK_ALLELE parameter. Format: Allele|Gene|Feature|Feature_type|Consequence|cDNA_position|CDS_position|Protein_position|Amino_acids|Codons|Existing_variation|DISTANCE|STRAND|SIFT|PolyPhen|MOTIF_NAME|MOTIF_POS|HIGH_INF_POS|MOTIF_SCORE_CHANGE,\n",
      "INFO.AC:   Total number of alternate alleles in called genotypes,\n",
      "INFO.AA:   Ancestral Allele. Format: AA|REF|ALT|IndelType. AA: Ancestral allele, REF:Reference Allele, ALT:Alternate Allele, IndelType:Type of Indel (REF, ALT and IndelType are only defined for indels),\n",
      "INFO.AF:   Estimated allele frequency in the range (0,1),\n",
      "INFO.FUNSEQ:   FunSeq score for noncoding SNV,\n",
      "INFO.END:   End coordinate of this variant,\n",
      "INFO.CS:   Source call set.,\n",
      "INFO.AN:   Total number of alleles in called genotypes,\n",
      "INFO.TSD:   Precise Target Site Duplication for bases, if unknown, value will be NULL,\n",
      "INFO.MC:   Merged calls.,\n",
      "INFO.HighD:   The Super population with the higher derived allele frequency for the highD site,\n",
      "INFO.MEND:   Mitochondrial end coordinate of inserted sequence,\n",
      "INFO.CIEND:   Confidence interval around END for imprecise variants,\n",
      "INFO.EAS_AF:   Allele frequency in the EAS populations calculated from AC and AN, in the range (0,1),\n",
      "fileformat:   VCFv4.1,\n"
     ]
    }
   ],
   "source": [
    "print\"Name: {}\".format(variant_annotation_set.name)\n",
    "print\" Id: {} \".format(variant_annotation_set.id)\n",
    "print\" Variant Set Id: {}\".format(variant_annotation_set.variant_set_id)\n",
    "print\" Analysis Id: {},\".format(variant_annotation_set.analysis.id)\n",
    "print\" Analysis Created: {},\\n\".format(variant_annotation_set.analysis.created)\n",
    "for info in variant_annotation_set.analysis.info:\n",
    "    print\"{}:   {},\".format(info, variant_annotation_set.analysis.info[info].values[0].string_value)\n"
   ]
  },
  {
   "cell_type": "markdown",
   "metadata": {},
   "source": [
    "###### Observe that this result contains the same values as does the search request. This is due to only one annotation set being available. "
   ]
  },
  {
   "cell_type": "markdown",
   "metadata": {},
   "source": [
    "##### For documentation in the service, and more information go to:\n",
    "https://ga4gh-schemas.readthedocs.io/en/latest/schemas/allele_annotation_service.proto.html"
   ]
  }
 ],
 "metadata": {
  "kernelspec": {
   "display_name": "Python 2",
   "language": "python",
   "name": "python2"
  },
  "language_info": {
   "codemirror_mode": {
    "name": "ipython",
    "version": 2
   },
   "file_extension": ".py",
   "mimetype": "text/x-python",
   "name": "python",
   "nbconvert_exporter": "python",
   "pygments_lexer": "ipython2",
   "version": "2.7.11"
  },
  "widgets": {
   "state": {},
   "version": "1.1.1"
  }
 },
 "nbformat": 4,
 "nbformat_minor": 1
}
