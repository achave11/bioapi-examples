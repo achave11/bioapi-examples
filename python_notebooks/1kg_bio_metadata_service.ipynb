{
 "cells": [
  {
   "cell_type": "markdown",
   "metadata": {},
   "source": [
    "## GA4GH 1000 Genome Biometadata Example"
   ]
  },
  {
   "cell_type": "markdown",
   "metadata": {},
   "source": [
    "This example illustrates the methods used to access the `bio_metadata_service`, including sample and individual data."
   ]
  },
  {
   "cell_type": "markdown",
   "metadata": {},
   "source": [
    "The Biometadata protocol presents messages that let's one determine the sample used to create some genomic data, such as a read group, or call set. Individuals can have multiple biosamples, and in this way the GA4GH is able to represent having samples from multiple sites of the same individual."
   ]
  },
  {
   "cell_type": "markdown",
   "metadata": {},
   "source": [
    "### Initialize client \n",
    "In this step we create a client object which will be used to communicate with the server. It is initialized using the 1kg URL."
   ]
  },
  {
   "cell_type": "code",
   "execution_count": 2,
   "metadata": {
    "collapsed": true
   },
   "outputs": [],
   "source": [
    "import ga4gh.client as client\n",
    "c = client.HttpClient(\"http://1kgenomes.ga4gh.org\") "
   ]
  },
  {
   "cell_type": "markdown",
   "metadata": {},
   "source": [
    "### Search individuals method\n",
    "This instance returns a list of individuals which are represented in a dataset. Note that we use `dataset_id` obtained from the `1kg_metadata_service` notebook."
   ]
  },
  {
   "cell_type": "code",
   "execution_count": 5,
   "metadata": {
    "collapsed": false
   },
   "outputs": [
    {
     "name": "stdout",
     "output_type": "stream",
     "text": [
      "Individual: HG00096\n",
      " id: WyIxa2dlbm9tZXMiLCJpIiwiSEcwMDA5NiJd\n",
      " dataset_id: WyIxa2dlbm9tZXMiXQ\n",
      " description: GBRBritish in England and Scotlandmale\n",
      " species.term: Homo sapiens\n",
      " species.id: NCBITaxon:9606\n",
      " sex.term: male genotypic sex\n",
      " sex.id: PATO:0020001\n",
      "\n",
      "Individual: HG00097\n",
      " id: WyIxa2dlbm9tZXMiLCJpIiwiSEcwMDA5NyJd\n",
      " dataset_id: WyIxa2dlbm9tZXMiXQ\n",
      " description: GBRBritish in England and Scotlandfemale\n",
      " species.term: Homo sapiens\n",
      " species.id: NCBITaxon:9606\n",
      " sex.term: female genotypic sex\n",
      " sex.id: PATO:0020002\n",
      "\n",
      "Individual: HG00098\n",
      " id: WyIxa2dlbm9tZXMiLCJpIiwiSEcwMDA5OCJd\n",
      " dataset_id: WyIxa2dlbm9tZXMiXQ\n",
      " description: GBRBritish in England and Scotlandmale\n",
      " species.term: Homo sapiens\n",
      " species.id: NCBITaxon:9606\n",
      " sex.term: male genotypic sex\n",
      " sex.id: PATO:0020001\n",
      "\n",
      "Individual: HG00099\n",
      " id: WyIxa2dlbm9tZXMiLCJpIiwiSEcwMDA5OSJd\n",
      " dataset_id: WyIxa2dlbm9tZXMiXQ\n",
      " description: GBRBritish in England and Scotlandfemale\n",
      " species.term: Homo sapiens\n",
      " species.id: NCBITaxon:9606\n",
      " sex.term: female genotypic sex\n",
      " sex.id: PATO:0020002\n",
      "\n",
      "Individual: HG00100\n",
      " id: WyIxa2dlbm9tZXMiLCJpIiwiSEcwMDEwMCJd\n",
      " dataset_id: WyIxa2dlbm9tZXMiXQ\n",
      " description: GBRBritish in England and Scotlandfemale\n",
      " species.term: Homo sapiens\n",
      " species.id: NCBITaxon:9606\n",
      " sex.term: female genotypic sex\n",
      " sex.id: PATO:0020002\n",
      "\n",
      "Individual: HG00101\n",
      " id: WyIxa2dlbm9tZXMiLCJpIiwiSEcwMDEwMSJd\n",
      " dataset_id: WyIxa2dlbm9tZXMiXQ\n",
      " description: GBRBritish in England and Scotlandmale\n",
      " species.term: Homo sapiens\n",
      " species.id: NCBITaxon:9606\n",
      " sex.term: male genotypic sex\n",
      " sex.id: PATO:0020001\n",
      "\n"
     ]
    }
   ],
   "source": [
    "counter = 0\n",
    "for individual in c.search_individuals(dataset_id=\"WyIxa2dlbm9tZXMiXQ\"):\n",
    "    if counter > 5:\n",
    "        break\n",
    "    counter += 1\n",
    "    print \"Individual: {}\".format(individual.name)\n",
    "    print \" id: {}\".format(individual.id)\n",
    "    print \" dataset_id: {}\".format(individual.dataset_id)\n",
    "    print \" description: {}\".format(individual.description)\n",
    "    print \" species.term: {}\".format(individual.species.term)\n",
    "    print \" species.id: {}\".format(individual.species.id)\n",
    "    print \" sex.term: {}\".format(individual.sex.term)\n",
    "    print \" sex.id: {}\\n\".format(individual.sex.id)"
   ]
  },
  {
   "cell_type": "markdown",
   "metadata": {},
   "source": [
    "###### Note: Only parameters that are potentiallly required by other methods are shown. Accessing attributes in the `info` field is addressed below."
   ]
  },
  {
   "cell_type": "markdown",
   "metadata": {},
   "source": [
    "### Get Individual by id method\n",
    "This method obtains an single individual by it's unique identifier. This id was chosen arbitrarily from the retuend results."
   ]
  },
  {
   "cell_type": "markdown",
   "metadata": {},
   "source": [
    "Although the GA4GH constrains the named fields for representing an individual, the info field is able to interchange other data that might be useful. We will get an individual message and then inspect some values in the info field."
   ]
  },
  {
   "cell_type": "code",
   "execution_count": 6,
   "metadata": {
    "collapsed": false
   },
   "outputs": [
    {
     "name": "stdout",
     "output_type": "stream",
     "text": [
      "Individual: HG00594\n",
      " info['Family ID']: SH057\n"
     ]
    }
   ],
   "source": [
    "single_individual = c.get_individual(individual_id=\"WyIxa2dlbm9tZXMiLCJpIiwiSEcwMDU5NCJd\")\n",
    "print \"Individual: {}\".format(single_individual.name)\n",
    "print \" info['Family ID']: {}\".format(single_individual.info['Family ID'].values[0].string_value)"
   ]
  },
  {
   "cell_type": "markdown",
   "metadata": {},
   "source": [
    "In this case, the Family ID can be exchanged through the protocol, although the named field is not present in the Individual message itself."
   ]
  },
  {
   "cell_type": "markdown",
   "metadata": {},
   "source": [
    "### Search BioSamples\n",
    "\n",
    "We can list all of the biosamples available in a dataset similar in fashion to how we did so for individuals."
   ]
  },
  {
   "cell_type": "code",
   "execution_count": 7,
   "metadata": {
    "collapsed": false
   },
   "outputs": [
    {
     "name": "stdout",
     "output_type": "stream",
     "text": [
      "BioSample: HG00096\n",
      " id: WyIxa2dlbm9tZXMiLCJiIiwiSEcwMDA5NiJd\n",
      " dataset_id: WyIxa2dlbm9tZXMiXQ\n",
      "\n",
      "BioSample: HG00097\n",
      " id: WyIxa2dlbm9tZXMiLCJiIiwiSEcwMDA5NyJd\n",
      " dataset_id: WyIxa2dlbm9tZXMiXQ\n",
      "\n",
      "BioSample: HG00098\n",
      " id: WyIxa2dlbm9tZXMiLCJiIiwiSEcwMDA5OCJd\n",
      " dataset_id: WyIxa2dlbm9tZXMiXQ\n",
      "\n",
      "BioSample: HG00099\n",
      " id: WyIxa2dlbm9tZXMiLCJiIiwiSEcwMDA5OSJd\n",
      " dataset_id: WyIxa2dlbm9tZXMiXQ\n",
      "\n",
      "BioSample: HG00100\n",
      " id: WyIxa2dlbm9tZXMiLCJiIiwiSEcwMDEwMCJd\n",
      " dataset_id: WyIxa2dlbm9tZXMiXQ\n",
      "\n",
      "BioSample: HG00101\n",
      " id: WyIxa2dlbm9tZXMiLCJiIiwiSEcwMDEwMSJd\n",
      " dataset_id: WyIxa2dlbm9tZXMiXQ\n",
      "\n"
     ]
    }
   ],
   "source": [
    "\n",
    "counter = 0\n",
    "for biosample in c.search_bio_samples(dataset_id=\"WyIxa2dlbm9tZXMiXQ\"):\n",
    "    if counter > 5:\n",
    "        break\n",
    "    counter += 1\n",
    "    print \"BioSample: {}\".format(biosample.name)\n",
    "    print \" id: {}\".format(biosample.id)\n",
    "    print \" dataset_id: {}\\n\".format(biosample.dataset_id)"
   ]
  },
  {
   "cell_type": "markdown",
   "metadata": {},
   "source": [
    "###### Only five sets of the bio samples data response were displayed for illustration purposes, but the response returns all of the samples hosted by the provided dataset. This all of the data contained in each response, illustrated in a organized fashion. "
   ]
  },
  {
   "cell_type": "markdown",
   "metadata": {},
   "source": [
    "### Get bio samples by id method\n",
    "This method can return an individual set of data, by simply provding its identifier,\n",
    "the data returned is the one displayed with the exception of the json wrapper "
   ]
  },
  {
   "cell_type": "code",
   "execution_count": 10,
   "metadata": {
    "collapsed": false
   },
   "outputs": [
    {
     "name": "stdout",
     "output_type": "stream",
     "text": [
      "\n",
      "Name: HG00102\n",
      " Id: WyIxa2dlbm9tZXMiLCJiIiwiSEcwMDEwMiJd,\n",
      " Dataset Id: WyIxa2dlbm9tZXMiXQ,\n",
      " Desciption: GBRBritish in England and Scotlandfemale,\n",
      " Individual Id: WyIxa2dlbm9tZXMiLCJpIiwiSEcwMDEwMiJd,\n",
      " Disease: ,\n",
      " Sample Created: 2016-07-28T14:38:49.204409,\n",
      " Sample Updated: 2016-07-28T14:38:49.204413\n",
      " Sample: \tHG00102\n",
      " Family ID: \tHG00102\n",
      " Relationship: \t\n",
      " Other Comments: \t\n",
      " Gender: \tfemale\n",
      " Population Description: \tBritish in England and Scotland\n",
      " Avuncular: \t\n",
      " Non Paternity: \t\n",
      " Unknown Second Order: \t\n",
      " Grandparents: \t\n",
      " Unexpected Parent/Child : \t\n",
      " Siblings: \t\n",
      " Half Siblings: \t\n",
      " Third Order: \t\n",
      " Population: \tGBR\n"
     ]
    }
   ],
   "source": [
    "single_bio_sample = c.get_bio_sample(bio_sample_id=biosample.id)\n",
    "print\"\\nName: {}\".format(single_bio_sample.name)\n",
    "print\" Id: {},\".format(single_bio_sample.id)\n",
    "print\" Dataset Id: {},\".format(single_bio_sample.dataset_id)\n",
    "print\" Desciption: {},\".format(single_bio_sample.description)\n",
    "print\" Individual Id: {},\".format(single_bio_sample.individual_id)\n",
    "print\" Disease: {},\".format(single_bio_sample.disease)\n",
    "print\" Sample Created: {},\".format(single_bio_sample.created)\n",
    "print\" Sample Updated: {}\".format(single_bio_sample.updated)\n",
    "for info in single_bio_sample.info:\n",
    "        print\" {}: \\t{}\".format(info, single_bio_sample.info[info].values[0].string_value)"
   ]
  },
  {
   "cell_type": "markdown",
   "metadata": {},
   "source": [
    "##### For more information and documentation in the service, \n",
    "https://ga4gh-schemas.readthedocs.io/en/latest/schemas/bio_metadata_service.proto.html"
   ]
  }
 ],
 "metadata": {
  "kernelspec": {
   "display_name": "Python 2",
   "language": "python",
   "name": "python2"
  },
  "language_info": {
   "codemirror_mode": {
    "name": "ipython",
    "version": 2
   },
   "file_extension": ".py",
   "mimetype": "text/x-python",
   "name": "python",
   "nbconvert_exporter": "python",
   "pygments_lexer": "ipython2",
   "version": "2.7.11"
  },
  "widgets": {
   "state": {},
   "version": "1.1.1"
  }
 },
 "nbformat": 4,
 "nbformat_minor": 1
}
