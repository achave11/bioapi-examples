{
 "cells": [
  {
   "cell_type": "markdown",
   "metadata": {},
   "source": [
    "## GA4GH 1000 Genome Biometadata Example\n",
    "This example illustrates the methods used to access the `bio_metadata_service`, including sample and individual data.\n",
    "\n",
    "The Biometadata protocol presents messages that let's one determine the sample used to create some genomic data, such as a read group, or call set. Individuals can have multiple biosamples, and in this way the GA4GH is able to represent having samples from multiple sites of the same individual."
   ]
  },
  {
   "cell_type": "markdown",
   "metadata": {},
   "source": [
    "### Initialize client \n",
    "In this step we create a client object which will be used to communicate with the server. It is initialized using the 1kg URL."
   ]
  },
  {
   "cell_type": "code",
   "execution_count": 1,
   "metadata": {
    "collapsed": true
   },
   "outputs": [],
   "source": [
    "import ga4gh.client as client\n",
    "c = client.HttpClient(\"http://1kgenomes.ga4gh.org\") "
   ]
  },
  {
   "cell_type": "markdown",
   "metadata": {},
   "source": [
    "### Search Individuals Method\n",
    "This instance returns a list of individuals which represented in a dataset. Note that we use the `dataset_id`  obtained from the `1kg_metadata_service` notebook."
   ]
  },
  {
   "cell_type": "code",
<<<<<<< HEAD
   "execution_count": 22,
=======
   "execution_count": 15,
>>>>>>> a6f7d7598bba95f15745663adf004c93e258c98a
   "metadata": {
    "collapsed": false
   },
   "outputs": [
    {
     "name": "stdout",
     "output_type": "stream",
     "text": [
      "Individual: HG00096\n",
      " id: WyIxa2dlbm9tZXMiLCJpIiwiSEcwMDA5NiJd\n",
      " dataset_id: WyIxa2dlbm9tZXMiXQ\n",
      " description: GBRBritish in England and Scotlandmale\n",
      " species.term: Homo sapiens\n",
      " species.id: NCBITaxon:9606\n",
      " sex.term: male genotypic sex\n",
      " sex.id: PATO:0020001\n",
      "\n",
      "Individual: HG00097\n",
      " id: WyIxa2dlbm9tZXMiLCJpIiwiSEcwMDA5NyJd\n",
      " dataset_id: WyIxa2dlbm9tZXMiXQ\n",
      " description: GBRBritish in England and Scotlandfemale\n",
      " species.term: Homo sapiens\n",
      " species.id: NCBITaxon:9606\n",
      " sex.term: female genotypic sex\n",
      " sex.id: PATO:0020002\n",
      "\n",
      "Individual: HG00098\n",
      " id: WyIxa2dlbm9tZXMiLCJpIiwiSEcwMDA5OCJd\n",
      " dataset_id: WyIxa2dlbm9tZXMiXQ\n",
      " description: GBRBritish in England and Scotlandmale\n",
      " species.term: Homo sapiens\n",
      " species.id: NCBITaxon:9606\n",
      " sex.term: male genotypic sex\n",
      " sex.id: PATO:0020001\n",
      "\n",
      "Individual: HG00099\n",
      " id: WyIxa2dlbm9tZXMiLCJpIiwiSEcwMDA5OSJd\n",
      " dataset_id: WyIxa2dlbm9tZXMiXQ\n",
      " description: GBRBritish in England and Scotlandfemale\n",
      " species.term: Homo sapiens\n",
      " species.id: NCBITaxon:9606\n",
      " sex.term: female genotypic sex\n",
      " sex.id: PATO:0020002\n",
      "\n",
      "Individual: HG00100\n",
      " id: WyIxa2dlbm9tZXMiLCJpIiwiSEcwMDEwMCJd\n",
      " dataset_id: WyIxa2dlbm9tZXMiXQ\n",
      " description: GBRBritish in England and Scotlandfemale\n",
      " species.term: Homo sapiens\n",
      " species.id: NCBITaxon:9606\n",
      " sex.term: female genotypic sex\n",
      " sex.id: PATO:0020002\n",
      "\n",
      "Individual: HG00101\n",
      " id: WyIxa2dlbm9tZXMiLCJpIiwiSEcwMDEwMSJd\n",
      " dataset_id: WyIxa2dlbm9tZXMiXQ\n",
      " description: GBRBritish in England and Scotlandmale\n",
      " species.term: Homo sapiens\n",
      " species.id: NCBITaxon:9606\n",
      " sex.term: male genotypic sex\n",
      " sex.id: PATO:0020001\n",
      "\n"
     ]
    }
   ],
   "source": [
    "counter = 0\n",
    "for individual in c.search_individuals(dataset_id=\"WyIxa2dlbm9tZXMiXQ\"):\n",
    "    if counter > 5:\n",
    "        break\n",
    "    counter += 1\n",
    "    print \"Individual: {}\".format(individual.name)\n",
    "    print \" id: {}\".format(individual.id)\n",
    "    print \" dataset_id: {}\".format(individual.dataset_id)\n",
    "    print \" description: {}\".format(individual.description)\n",
    "    print \" species.term: {}\".format(individual.species.term)\n",
    "    print \" species.id: {}\".format(individual.species.id)\n",
    "    print \" sex.term: {}\".format(individual.sex.term)\n",
    "    print \" sex.id: {}\\n\".format(individual.sex.id)"
   ]
  },
  {
   "cell_type": "markdown",
   "metadata": {},
   "source": [
<<<<<<< HEAD
    "###### Note: Only parameters that are potentiallly required by other methods are shown. The data returned by this call is richer and containes info fields that have not been illustrated, but will be in the get by id method, next. Also note, that this search request can take as complementary parameters a `name` which will return data which solely pertains to that individual."
=======
    "###### Note: Only parameters that are potentiallly required by other methods are shown. Accessing attributes in the `info` field is addressed below."
>>>>>>> a6f7d7598bba95f15745663adf004c93e258c98a
   ]
  },
  {
   "cell_type": "markdown",
   "metadata": {},
   "source": [
    "### Get Individual by id method\n",
    "This method obtains an single individual by it's unique identifier. This `id` was chosen arbitrarily from the retuend results.\n",
    "\n",
    "Although the GA4GH constrains the named fields for representing an individual, the `info` field is able to interchange other data that might be useful. We will get an individual message and then inspect some values in the `info` field."
   ]
  },
  {
   "cell_type": "code",
   "execution_count": 16,
   "metadata": {
    "collapsed": false
   },
   "outputs": [
    {
     "name": "stdout",
     "output_type": "stream",
     "text": [
      "Individual: HG00594\n",
      " info['Family ID']: SH057\n"
     ]
    }
   ],
   "source": [
    "single_individual = c.get_individual(individual_id=\"WyIxa2dlbm9tZXMiLCJpIiwiSEcwMDU5NCJd\")\n",
    "print \"Individual: {}\".format(single_individual.name)\n",
    "print \" info['Family ID']: {}\".format(single_individual.info['Family ID'].values[0].string_value)"
   ]
  },
  {
   "cell_type": "markdown",
   "metadata": {
    "collapsed": true
   },
   "source": [
    "In this case, the Family ID can be exchanged through the protocol, although the named field is not present in the `Individual` message itself."
   ]
  },
  {
   "cell_type": "markdown",
   "metadata": {},
   "source": [
    "### Search BioSamples"
   ]
  },
  {
   "cell_type": "markdown",
   "metadata": {},
   "source": [
    "We can list all of the biosamples available in a dataset similar in fashion to how we did so for individuals."
   ]
  },
  {
   "cell_type": "code",
<<<<<<< HEAD
   "execution_count": 23,
=======
   "execution_count": 19,
>>>>>>> a6f7d7598bba95f15745663adf004c93e258c98a
   "metadata": {
    "collapsed": false
   },
   "outputs": [
    {
     "name": "stdout",
     "output_type": "stream",
     "text": [
<<<<<<< HEAD
      "\n",
      "Individual Name: HG00104,\tId: WyIxa2dlbm9tZXMiLCJpIiwiSEcwMDEwNCJd,\n",
      "\tData Set: WyIxa2dlbm9tZXMiXQ\tIndividual Description: GBRBritish in England and Scotlandfemale,\n",
      "\tCreated: 2016-07-28T14:38:49.204497,\tUpdated: 2016-07-28T14:38:49.204500,\n",
      "\n",
      "\tSpecies Term: Homo sapiens,\tSpecies Id: NCBITaxon:9606,\n",
      "\tSpecies Source Name: http://purl.obolibrary.org/obo,\tSpecies Source Version: 2016-02-02,\n",
      "\n",
      "\tSex Term: female genotypic sex,\tSex Id: PATO:0020002,\n",
      "\tSex Source Name: PATO\tSex Source Version: 2015-11-18\n",
      "\t\n",
      "\tSample: \tHG00104\n",
      "\tFamily ID: \tHG00104\n",
      "\tRelationship: \t\n",
      "\tOther Comments: \t\n",
      "\tGender: \tfemale\n",
      "\tPopulation Description: \tBritish in England and Scotland\n",
      "\tAvuncular: \t\n",
      "\tNon Paternity: \t\n",
      "\tUnknown Second Order: \t\n",
      "\tGrandparents: \t\n",
      "\tUnexpected Parent/Child : \t\n",
      "\tSiblings: \t\n",
      "\tHalf Siblings: \t\n",
      "\tThird Order: \t\n",
      "\tPopulation: \tGBR\n"
=======
      "BioSample: HG00096\n",
      " id: WyIxa2dlbm9tZXMiLCJiIiwiSEcwMDA5NiJd\n",
      " dataset_id: WyIxa2dlbm9tZXMiXQ\n",
      "\n",
      "BioSample: HG00097\n",
      " id: WyIxa2dlbm9tZXMiLCJiIiwiSEcwMDA5NyJd\n",
      " dataset_id: WyIxa2dlbm9tZXMiXQ\n",
      "\n",
      "BioSample: HG00098\n",
      " id: WyIxa2dlbm9tZXMiLCJiIiwiSEcwMDA5OCJd\n",
      " dataset_id: WyIxa2dlbm9tZXMiXQ\n",
      "\n",
      "BioSample: HG00099\n",
      " id: WyIxa2dlbm9tZXMiLCJiIiwiSEcwMDA5OSJd\n",
      " dataset_id: WyIxa2dlbm9tZXMiXQ\n",
      "\n",
      "BioSample: HG00100\n",
      " id: WyIxa2dlbm9tZXMiLCJiIiwiSEcwMDEwMCJd\n",
      " dataset_id: WyIxa2dlbm9tZXMiXQ\n",
      "\n",
      "BioSample: HG00101\n",
      " id: WyIxa2dlbm9tZXMiLCJiIiwiSEcwMDEwMSJd\n",
      " dataset_id: WyIxa2dlbm9tZXMiXQ\n",
      "\n"
>>>>>>> a6f7d7598bba95f15745663adf004c93e258c98a
     ]
    }
   ],
   "source": [
<<<<<<< HEAD
    "single_individual = c.get_individual(individual_id=individuals.id)\n",
    "print \"\\nIndividual Name: {},\\tId: {},\\n\\tData Set: {}\\tIndividual Description: {},\\n\\tCreated: {},\\tUpdated: {},\\n\\n\\tSpecies Term: {},\\tSpecies Id: {},\\n\\tSpecies Source Name: {},\\tSpecies Source Version: {},\\n\\n\\tSex Term: {},\\tSex Id: {},\\n\\tSex Source Name: {}\\tSex Source Version: {}\\n\\t\".format(\n",
    "    single_individual.name, single_individual.id, single_individual.dataset_id, single_individual.description, \n",
    "    single_individual.created, single_individual.updated, single_individual.species.term, single_individual.species.id,\n",
    "    single_individual.species.source_name, single_individual.species.source_version, single_individual.sex.term,\n",
    "    single_individual.sex.id, single_individual.sex.source_name, single_individual.sex.source_version)\n",
    "for info in single_individual.info:\n",
    "    print\"\\t{}: \\t{}\".format(info, single_individual.info[info].values[0].string_value)"
=======
    "counter = 0\n",
    "for biosample in c.search_bio_samples(dataset_id=\"WyIxa2dlbm9tZXMiXQ\"):\n",
    "    if counter > 5:\n",
    "        break\n",
    "    counter += 1\n",
    "    print \"BioSample: {}\".format(biosample.name)\n",
    "    print \" id: {}\".format(biosample.id)\n",
    "    print \" dataset_id: {}\\n\".format(biosample.dataset_id)"
>>>>>>> a6f7d7598bba95f15745663adf004c93e258c98a
   ]
  },
  {
   "cell_type": "markdown",
   "metadata": {},
   "source": [
<<<<<<< HEAD
    "##### Observe that this information has been filtered, it is returned in json containers. Also, it is the information that gets return in the ``search individuals`` method. "
   ]
  },
  {
   "cell_type": "markdown",
   "metadata": {},
   "source": [
    "### Search bio samples method\n",
    "This method returns a list of individuals with its belonging bio sample data.\n",
    "It requires as main parameter dataset_id, which can be obtained from the metadata service notebook."
=======
    "* Search biosamples using individual id\n",
    "* Search read"
>>>>>>> a6f7d7598bba95f15745663adf004c93e258c98a
   ]
  },
  {
   "cell_type": "code",
   "execution_count": 29,
   "metadata": {
    "collapsed": false
   },
   "outputs": [
    {
     "name": "stdout",
     "output_type": "stream",
     "text": [
      "\n",
      "Name: HG00096\tId: WyIxa2dlbm9tZXMiLCJiIiwiSEcwMDA5NiJd,\tDataset Id: WyIxa2dlbm9tZXMiXQ,\n",
      "\tDesciption: GBRBritish in England and Scotlandmale\tIndividual Id: WyIxa2dlbm9tZXMiLCJpIiwiSEcwMDA5NiJd,\n",
      "\tDisease: ,\n",
      "\tSample Created: 2016-07-28T14:38:49.204142,\tSample Updated: 2016-07-28T14:38:49.204160\n",
      "\t\n",
      "\tAvuncular: \t\n",
      "\tRelationship: \t\n",
      "\tOther Comments: \t\n",
      "\tGender: \tmale\n",
      "\tHalf Siblings: \t\n",
      "\tSample: \tHG00096\n",
      "\tUnknown Second Order: \t\n",
      "\tNon Paternity: \t\n",
      "\tFamily ID: \tHG00096\n",
      "\tGrandparents: \t\n",
      "\tUnexpected Parent/Child : \t\n",
      "\tSiblings: \t\n",
      "\tPopulation Description: \tBritish in England and Scotland\n",
      "\tThird Order: \t\n",
      "\tPopulation: \tGBR\n",
      "\n",
      "Name: HG00097\tId: WyIxa2dlbm9tZXMiLCJiIiwiSEcwMDA5NyJd,\tDataset Id: WyIxa2dlbm9tZXMiXQ,\n",
      "\tDesciption: GBRBritish in England and Scotlandfemale\tIndividual Id: WyIxa2dlbm9tZXMiLCJpIiwiSEcwMDA5NyJd,\n",
      "\tDisease: ,\n",
      "\tSample Created: 2016-07-28T14:38:49.204192,\tSample Updated: 2016-07-28T14:38:49.204197\n",
      "\t\n",
      "\tAvuncular: \t\n",
      "\tRelationship: \t\n",
      "\tOther Comments: \t\n",
      "\tGender: \tfemale\n",
      "\tHalf Siblings: \t\n",
      "\tSample: \tHG00097\n",
      "\tUnknown Second Order: \t\n",
      "\tNon Paternity: \t\n",
      "\tFamily ID: \tHG00097\n",
      "\tGrandparents: \t\n",
      "\tUnexpected Parent/Child : \t\n",
      "\tSiblings: \t\n",
      "\tPopulation Description: \tBritish in England and Scotland\n",
      "\tThird Order: \t\n",
      "\tPopulation: \tGBR\n",
      "\n",
      "Name: HG00098\tId: WyIxa2dlbm9tZXMiLCJiIiwiSEcwMDA5OCJd,\tDataset Id: WyIxa2dlbm9tZXMiXQ,\n",
      "\tDesciption: GBRBritish in England and Scotlandmale\tIndividual Id: WyIxa2dlbm9tZXMiLCJpIiwiSEcwMDA5OCJd,\n",
      "\tDisease: ,\n",
      "\tSample Created: 2016-07-28T14:38:49.204222,\tSample Updated: 2016-07-28T14:38:49.204226\n",
      "\t\n",
      "\tAvuncular: \t\n",
      "\tRelationship: \t\n",
      "\tOther Comments: \t\n",
      "\tGender: \tmale\n",
      "\tHalf Siblings: \t\n",
      "\tSample: \tHG00098\n",
      "\tUnknown Second Order: \t\n",
      "\tNon Paternity: \t\n",
      "\tFamily ID: \tHG00098\n",
      "\tGrandparents: \t\n",
      "\tUnexpected Parent/Child : \t\n",
      "\tSiblings: \t\n",
      "\tPopulation Description: \tBritish in England and Scotland\n",
      "\tThird Order: \t\n",
      "\tPopulation: \tGBR\n",
      "\n",
      "Name: HG00099\tId: WyIxa2dlbm9tZXMiLCJiIiwiSEcwMDA5OSJd,\tDataset Id: WyIxa2dlbm9tZXMiXQ,\n",
      "\tDesciption: GBRBritish in England and Scotlandfemale\tIndividual Id: WyIxa2dlbm9tZXMiLCJpIiwiSEcwMDA5OSJd,\n",
      "\tDisease: ,\n",
      "\tSample Created: 2016-07-28T14:38:49.204249,\tSample Updated: 2016-07-28T14:38:49.204253\n",
      "\t\n",
      "\tAvuncular: \t\n",
      "\tRelationship: \t\n",
      "\tOther Comments: \t\n",
      "\tGender: \tfemale\n",
      "\tHalf Siblings: \t\n",
      "\tSample: \tHG00099\n",
      "\tUnknown Second Order: \t\n",
      "\tNon Paternity: \t\n",
      "\tFamily ID: \tHG00099\n",
      "\tGrandparents: \t\n",
      "\tUnexpected Parent/Child : \t\n",
      "\tSiblings: \t\n",
      "\tPopulation Description: \tBritish in England and Scotland\n",
      "\tThird Order: \t\n",
      "\tPopulation: \tGBR\n",
      "\n",
      "Name: HG00100\tId: WyIxa2dlbm9tZXMiLCJiIiwiSEcwMDEwMCJd,\tDataset Id: WyIxa2dlbm9tZXMiXQ,\n",
      "\tDesciption: GBRBritish in England and Scotlandfemale\tIndividual Id: WyIxa2dlbm9tZXMiLCJpIiwiSEcwMDEwMCJd,\n",
      "\tDisease: ,\n",
      "\tSample Created: 2016-07-28T14:38:49.204353,\tSample Updated: 2016-07-28T14:38:49.204360\n",
      "\t\n",
      "\tAvuncular: \t\n",
      "\tRelationship: \t\n",
      "\tOther Comments: \t\n",
      "\tGender: \tfemale\n",
      "\tHalf Siblings: \t\n",
      "\tSample: \tHG00100\n",
      "\tUnknown Second Order: \t\n",
      "\tNon Paternity: \t\n",
      "\tFamily ID: \tHG00100\n",
      "\tGrandparents: \t\n",
      "\tUnexpected Parent/Child : \t\n",
      "\tSiblings: \t\n",
      "\tPopulation Description: \tBritish in England and Scotland\n",
      "\tThird Order: \t\n",
      "\tPopulation: \tGBR\n"
     ]
    }
   ],
   "source": [
    "counter = 5\n",
    "for bio_samples in c.search_bio_samples(dataset_id=\"WyIxa2dlbm9tZXMiXQ\"):\n",
    "    if counter <= 0:\n",
    "        break\n",
    "    counter -= 1\n",
    "    print\"\\nName: {}\\tId: {},\\tDataset Id: {},\\n\\tDesciption: {}\\tIndividual Id: {},\\n\\tDisease: {},\\n\\tSample Created: {},\\tSample Updated: {}\\n\\t\".format(\n",
    "    bio_samples.name, bio_samples.id, bio_samples.dataset_id, bio_samples.description,bio_samples.individual_id,\n",
    "    bio_samples.disease, bio_samples.created, bio_samples.updated)\n",
    "    for info in bio_samples.info:\n",
    "        print\"\\t{}: \\t{}\".format(info, bio_samples.info[info].values[0].string_value)"
   ]
  },
  {
   "cell_type": "markdown",
   "metadata": {},
   "source": [
    "###### Only five sets of the bio samples data response were displayed for illustration purposes, but the response returns all of the samples hosted by the provided dataset. This all of the data contained in each response, illustrated in a organized fashion. "
   ]
  },
  {
   "cell_type": "markdown",
   "metadata": {},
   "source": [
    "### Get bio samples by id method\n",
    "This method can return an individual set of data, by simply provding its identifier,\n",
    "the data returned is the one displayed with the exception of the json wrapper "
   ]
  },
  {
   "cell_type": "code",
   "execution_count": 31,
   "metadata": {
    "collapsed": false
   },
   "outputs": [
    {
     "name": "stdout",
     "output_type": "stream",
     "text": [
      "\n",
      "Name: HG00101\tId: WyIxa2dlbm9tZXMiLCJiIiwiSEcwMDEwMSJd,\tDataset Id: WyIxa2dlbm9tZXMiXQ,\n",
      "\tDesciption: GBRBritish in England and Scotlandmale\tIndividual Id: WyIxa2dlbm9tZXMiLCJpIiwiSEcwMDEwMSJd,\n",
      "\tDisease: ,\n",
      "\tSample Created: 2016-07-28T14:38:49.204385,\tSample Updated: 2016-07-28T14:38:49.204389\n",
      "\t\n",
      "\tSample: \tHG00101\n",
      "\tFamily ID: \tHG00101\n",
      "\tRelationship: \t\n",
      "\tOther Comments: \t\n",
      "\tGender: \tmale\n",
      "\tPopulation Description: \tBritish in England and Scotland\n",
      "\tAvuncular: \t\n",
      "\tNon Paternity: \t\n",
      "\tUnknown Second Order: \t\n",
      "\tGrandparents: \t\n",
      "\tUnexpected Parent/Child : \t\n",
      "\tSiblings: \t\n",
      "\tHalf Siblings: \t\n",
      "\tThird Order: \t\n",
      "\tPopulation: \tGBR\n"
     ]
    }
   ],
   "source": [
    "single_bio_sample = c.get_bio_sample(bio_sample_id=bio_samples.id)\n",
    "print \"\\nName: {}\\tId: {},\\tDataset Id: {},\\n\\tDesciption: {}\\tIndividual Id: {},\\n\\tDisease: {},\\n\\tSample Created: {},\\tSample Updated: {}\\n\\t\".format(\n",
    "    single_bio_sample.name, single_bio_sample.id, single_bio_sample.dataset_id, single_bio_sample.description,single_bio_sample.individual_id,\n",
    "    single_bio_sample.disease, single_bio_sample.created, single_bio_sample.updated)\n",
    "for info in single_bio_sample.info:\n",
    "        print\"\\t{}: \\t{}\".format(info, single_bio_sample.info[info].values[0].string_value)"
   ]
  },
  {
   "cell_type": "markdown",
   "metadata": {},
   "source": [
    "##### For more information and documentation in the service, \n",
    "https://ga4gh-schemas.readthedocs.io/en/latest/schemas/bio_metadata_service.proto.html"
   ]
  }
 ],
 "metadata": {
  "kernelspec": {
   "display_name": "Python 2",
   "language": "python",
   "name": "python2"
  },
  "language_info": {
   "codemirror_mode": {
    "name": "ipython",
    "version": 2
   },
   "file_extension": ".py",
   "mimetype": "text/x-python",
   "name": "python",
   "nbconvert_exporter": "python",
   "pygments_lexer": "ipython2",
   "version": "2.7.11"
  }
 },
 "nbformat": 4,
 "nbformat_minor": 1
}
