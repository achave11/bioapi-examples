{
 "cells": [
  {
   "cell_type": "markdown",
   "metadata": {},
   "source": [
    "## GA4GH 1000 Genomes Reads Protocol Example\n",
    "This example illustrates how to access alignment data made available using a GA4GH interface."
   ]
  },
  {
   "cell_type": "markdown",
   "metadata": {},
   "source": [
    "### Initialize the client\n",
    "In this step we create a client object which will be used to communicate with the server. It is initialized using the URL."
   ]
  },
  {
   "cell_type": "code",
   "execution_count": 26,
   "metadata": {
    "collapsed": true
   },
   "outputs": [],
   "source": [
    "import ga4gh.client as client\n",
    "c = client.HttpClient(\"http://1kgenomes.ga4gh.org\")"
   ]
  },
  {
   "cell_type": "markdown",
   "metadata": {},
   "source": [
    "### Search read group sets\n",
    "Read group sets are logical containers for read groups similar to BAM.\n",
    "\n",
    "We can obtain read group sets via a `search_read_group_sets` request. Observe that this request takes as it's main parameter `dataset_id`, which was obtained using the example in `1kg_metadata_service` using a `search_datasets` request."
   ]
  },
  {
   "cell_type": "code",
   "execution_count": 27,
   "metadata": {
    "collapsed": false
   },
   "outputs": [
    {
     "name": "stdout",
     "output_type": "stream",
     "text": [
      "Read Group Set: HG03270\n",
      "id: WyIxa2dlbm9tZXMiLCJyZ3MiLCJIRzAzMjcwIl0\n",
      "dataset_id: WyIxa2dlbm9tZXMiXQ\n",
      "Aligned Read Count: 177645990\n",
      "Unaligned Read Count: 3353212\n",
      "\n",
      "  Read group:\n",
      "  id: WyIxa2dlbm9tZXMiLCJyZ3MiLCJIRzAzMjcwIiwiRVJSMTgxMzI5Il0\n",
      "  Name: ERR181329\n",
      "  Description: SRP015238\n",
      "  Biosample Id: WyIxa2dlbm9tZXMiLCJiIiwiSEcwMzI3MCJd\n",
      "\n",
      "  Read group:\n",
      "  id: WyIxa2dlbm9tZXMiLCJyZ3MiLCJIRzAzMjcwIiwiRVJSMTg0MzI4Il0\n",
      "  Name: ERR184328\n",
      "  Description: SRP015238\n",
      "  Biosample Id: WyIxa2dlbm9tZXMiLCJiIiwiSEcwMzI3MCJd\n",
      "\n",
      "  Read group:\n",
      "  id: WyIxa2dlbm9tZXMiLCJyZ3MiLCJIRzAzMjcwIiwiRVJSMTg0MzM2Il0\n",
      "  Name: ERR184336\n",
      "  Description: SRP015238\n",
      "  Biosample Id: WyIxa2dlbm9tZXMiLCJiIiwiSEcwMzI3MCJd\n",
      "\n",
      "  Read group:\n",
      "  id: WyIxa2dlbm9tZXMiLCJyZ3MiLCJIRzAzMjcwIiwiRVJSMTg0MzQ0Il0\n",
      "  Name: ERR184344\n",
      "  Description: SRP015238\n",
      "  Biosample Id: WyIxa2dlbm9tZXMiLCJiIiwiSEcwMzI3MCJd\n",
      "\n",
      "Read Group Set: HG03271\n",
      "id: WyIxa2dlbm9tZXMiLCJyZ3MiLCJIRzAzMjcxIl0\n",
      "dataset_id: WyIxa2dlbm9tZXMiXQ\n",
      "Aligned Read Count: 201280730\n",
      "Unaligned Read Count: 3353212\n",
      "\n",
      "  Read group:\n",
      "  id: WyIxa2dlbm9tZXMiLCJyZ3MiLCJIRzAzMjcxIiwiRVJSMTgxMzI4Il0\n",
      "  Name: ERR181328\n",
      "  Description: SRP015238\n",
      "  Biosample Id: WyIxa2dlbm9tZXMiLCJiIiwiSEcwMzI3MSJd\n",
      "\n",
      "  Read group:\n",
      "  id: WyIxa2dlbm9tZXMiLCJyZ3MiLCJIRzAzMjcxIiwiRVJSMTg0MzI3Il0\n",
      "  Name: ERR184327\n",
      "  Description: SRP015238\n",
      "  Biosample Id: WyIxa2dlbm9tZXMiLCJiIiwiSEcwMzI3MSJd\n",
      "\n",
      "  Read group:\n",
      "  id: WyIxa2dlbm9tZXMiLCJyZ3MiLCJIRzAzMjcxIiwiRVJSMTg0MzM1Il0\n",
      "  Name: ERR184335\n",
      "  Description: SRP015238\n",
      "  Biosample Id: WyIxa2dlbm9tZXMiLCJiIiwiSEcwMzI3MSJd\n",
      "\n",
      "  Read group:\n",
      "  id: WyIxa2dlbm9tZXMiLCJyZ3MiLCJIRzAzMjcxIiwiRVJSMTg0MzQzIl0\n",
      "  Name: ERR184343\n",
      "  Description: SRP015238\n",
      "  Biosample Id: WyIxa2dlbm9tZXMiLCJiIiwiSEcwMzI3MSJd\n",
      "\n"
     ]
    }
   ],
   "source": [
    "counter = 0\n",
    "for read_group_set in c.search_read_group_sets(dataset_id=\"WyIxa2dlbm9tZXMiXQ\"):\n",
    "    counter += 1\n",
    "    if counter < 3:\n",
    "        print \"Read Group Set: {}\".format(read_group_set.name)\n",
    "        print \"id: {}\".format(read_group_set.id)\n",
    "        print \"dataset_id: {}\".format(read_group_set.dataset_id)\n",
    "        print \"Aligned Read Count: {}\".format(read_group_set.stats.aligned_read_count)\n",
    "        print \"Unaligned Read Count: {}\\n\".format(read_groups.stats.unaligned_read_count)\n",
    "        for read_group in read_group_set.read_groups:\n",
    "            print \"  Read group:\"\n",
    "            print \"  id: {}\".format(read_group.id)\n",
    "            print \"  Name: {}\".format(read_group.name)\n",
    "            print \"  Description: {}\".format(read_group.description)\n",
    "            print \"  Biosample Id: {}\\n\".format(read_group.bio_sample_id)"
   ]
  },
  {
   "cell_type": "markdown",
   "metadata": {},
   "source": [
    "###### Note: only a small subset of elements is being illustrated, the data returned by the servers is richer, that is, it contains other informational fields which may be of interest. "
   ]
  },
  {
   "cell_type": "markdown",
   "metadata": {},
   "source": [
    "### Get read group set\n",
    "Similarly, we can obtain a specific Read Group Set by providing a specific identifier."
   ]
  },
  {
   "cell_type": "code",
   "execution_count": 28,
   "metadata": {
    "collapsed": false
   },
   "outputs": [
    {
     "name": "stdout",
     "output_type": "stream",
     "text": [
      "Read Group Set: NA19678\n",
      "id: WyIxa2dlbm9tZXMiLCJyZ3MiLCJOQTE5Njc4Il0\n",
      "dataset_id: WyIxa2dlbm9tZXMiXQ\n",
      "Aligned Read Count: 449711566\n",
      "Unaligned Read Count: 5831622\n",
      "\n",
      " Read Group: SRR034578\n",
      " id: WyIxa2dlbm9tZXMiLCJiIiwiTkExOTY3OCJd\n",
      " bio_sample_id: WyIxa2dlbm9tZXMiLCJiIiwiTkExOTY3OCJd\n",
      "\n",
      " Read Group: SRR034579\n",
      " id: WyIxa2dlbm9tZXMiLCJiIiwiTkExOTY3OCJd\n",
      " bio_sample_id: WyIxa2dlbm9tZXMiLCJiIiwiTkExOTY3OCJd\n",
      "\n",
      " Read Group: SRR035488\n",
      " id: WyIxa2dlbm9tZXMiLCJiIiwiTkExOTY3OCJd\n",
      " bio_sample_id: WyIxa2dlbm9tZXMiLCJiIiwiTkExOTY3OCJd\n",
      "\n",
      " Read Group: SRR038585\n",
      " id: WyIxa2dlbm9tZXMiLCJiIiwiTkExOTY3OCJd\n",
      " bio_sample_id: WyIxa2dlbm9tZXMiLCJiIiwiTkExOTY3OCJd\n",
      "\n",
      " Read Group: SRR051575\n",
      " id: WyIxa2dlbm9tZXMiLCJiIiwiTkExOTY3OCJd\n",
      " bio_sample_id: WyIxa2dlbm9tZXMiLCJiIiwiTkExOTY3OCJd\n",
      "\n",
      " Read Group: SRR424287\n",
      " id: WyIxa2dlbm9tZXMiLCJiIiwiTkExOTY3OCJd\n",
      " bio_sample_id: WyIxa2dlbm9tZXMiLCJiIiwiTkExOTY3OCJd\n",
      "\n",
      " Read Group: SRR424288\n",
      " id: WyIxa2dlbm9tZXMiLCJiIiwiTkExOTY3OCJd\n",
      " bio_sample_id: WyIxa2dlbm9tZXMiLCJiIiwiTkExOTY3OCJd\n",
      "\n",
      " Read Group: SRR424289\n",
      " id: WyIxa2dlbm9tZXMiLCJiIiwiTkExOTY3OCJd\n",
      " bio_sample_id: WyIxa2dlbm9tZXMiLCJiIiwiTkExOTY3OCJd\n",
      "\n",
      " Read Group: SRR442018\n",
      " id: WyIxa2dlbm9tZXMiLCJiIiwiTkExOTY3OCJd\n",
      " bio_sample_id: WyIxa2dlbm9tZXMiLCJiIiwiTkExOTY3OCJd\n",
      "\n",
      " Read Group: SRR442019\n",
      " id: WyIxa2dlbm9tZXMiLCJiIiwiTkExOTY3OCJd\n",
      " bio_sample_id: WyIxa2dlbm9tZXMiLCJiIiwiTkExOTY3OCJd\n",
      "\n",
      " Read Group: SRR442020\n",
      " id: WyIxa2dlbm9tZXMiLCJiIiwiTkExOTY3OCJd\n",
      " bio_sample_id: WyIxa2dlbm9tZXMiLCJiIiwiTkExOTY3OCJd\n",
      "\n"
     ]
    }
   ],
   "source": [
    "read_group_set = c.get_read_group_set(read_group_set_id=\"WyIxa2dlbm9tZXMiLCJyZ3MiLCJOQTE5Njc4Il0\")\n",
    "print \"Read Group Set: {}\".format(read_group_set.name)\n",
    "print \"id: {}\".format(read_group_set.id)\n",
    "print \"dataset_id: {}\".format(read_group_set.dataset_id)\n",
    "print \"Aligned Read Count: {}\".format(read_group_set.stats.aligned_read_count)\n",
    "print \"Unaligned Read Count: {}\\n\".format(read_group_set.stats.unaligned_read_count)\n",
    "for read_group in read_group_set.read_groups:\n",
    "    print \" Read Group: {}\".format(read_group.name)\n",
    "    print \" id: {}\".format(read_group.bio_sample_id)\n",
    "    print \" bio_sample_id: {}\\n\".format(read_group.bio_sample_id)"
   ]
  },
  {
   "cell_type": "markdown",
   "metadata": {},
   "source": [
    "###### Note, like in the previous example. Only a selected amount of parameters are selected for illustration, the data returned by the server is far richer, this format is only to have a more aesthetic presentation."
   ]
  },
  {
   "cell_type": "markdown",
   "metadata": {},
   "source": [
    "### Search reads\n",
    "This request returns reads were the read group set names we obtained above. The reference ID provided corresponds to chromosome 1 as obtained from the `1kg_reference_service` examples. A `search_reads` request searches for read alignments in a region using start and end coordinates."
   ]
  },
  {
   "cell_type": "code",
   "execution_count": 30,
   "metadata": {
    "collapsed": false
   },
   "outputs": [
    {
     "name": "stdout",
     "output_type": "stream",
     "text": [
      "Alignment from SRR034578\n",
      "\n",
      " id: WyIxa2dlbm9tZXMiLCJyZ3MiLCJOQTE5Njc4IiwiU1JSMDM0NTc4LjE3MzYwMCJd\n",
      " fragment_name: SRR034578.173600\n",
      " aligned_sequence: ACCCTAACCCTAACCCTAACCCTAACCCTAACCCTAACCCTAACCCTAACCCTAACCCTAACCCTAACCCTAACCC\n",
      "\n",
      "Alignment from SRR034579\n",
      "\n",
      " id: WyIxa2dlbm9tZXMiLCJyZ3MiLCJOQTE5Njc4IiwiU1JSMDM0NTc5LjY2MzcyODkiXQ\n",
      " fragment_name: SRR034579.6637289\n",
      " aligned_sequence: CCCTAACCCTAACCCTAACCCTAACCCTAACCCTAACCCTAACCCTAACCCTAACCCTAACCCTAACCCTAACCCT\n",
      "\n",
      "Alignment from SRR035488\n",
      "\n",
      " id: WyIxa2dlbm9tZXMiLCJyZ3MiLCJOQTE5Njc4IiwiU1JSMDM1NDg4Ljc1NTQ1NDciXQ\n",
      " fragment_name: SRR035488.7554547\n",
      " aligned_sequence: ACCCTGACCCCGACCCTAACCCTAACCCTAACCCTAACCCTAACCCTAACCCTCACCCTCACCCTAACCCCTAAAC\n",
      "\n",
      "Alignment from SRR038585\n",
      "\n",
      " id: WyIxa2dlbm9tZXMiLCJyZ3MiLCJOQTE5Njc4IiwiU1JSMDM4NTg1LjE1MzI5MDkiXQ\n",
      " fragment_name: SRR038585.1532909\n",
      " aligned_sequence: CCCTGACCCTGACCCTGACCCTGAACCCGAACCCGAACCCGAACCCCAACCCGAAGCGGAGCCCGAACCAGAACCC\n",
      "\n",
      "Alignment from SRR051575\n",
      "\n",
      " id: WyIxa2dlbm9tZXMiLCJyZ3MiLCJOQTE5Njc4IiwiU1JSMDUxNTc1LjI0ODgxNDciXQ\n",
      " fragment_name: SRR051575.2488147\n",
      " aligned_sequence: CTCGTCATTCCTGCTGATCCGCTCTTCCGATCTGTTAGGGTTAGGGTTAGGGTTAGGGTTAGGGTTAGGGTTAGGG\n",
      "\n",
      "Alignment from SRR424287\n",
      "\n",
      " id: WyIxa2dlbm9tZXMiLCJyZ3MiLCJOQTE5Njc4IiwiU1JSNDI0Mjg3Ljk1NDQ3MjgiXQ\n",
      " fragment_name: SRR424287.9544728\n",
      " aligned_sequence: TCCGATCTCCCTAACCCTAACCCTAACCCTAACCCTAACCCTAACCCTAACCCTAACAACCCTAACCCTAACCCTAACCCTAACCCTAACCCTAACCCTAA\n",
      "\n",
      "Alignment from SRR424288\n",
      "\n",
      " id: WyIxa2dlbm9tZXMiLCJyZ3MiLCJOQTE5Njc4IiwiU1JSNDI0Mjg4LjMwIl0\n",
      " fragment_name: SRR424288.30\n",
      " aligned_sequence: TAACCCTAACCCTAACCCTAACCCTAACCCTAACCCTAACCCTAACCCTAACCCTAACCCTAACCCTAACCCTAACCCTAACCCTAACCCTAACCCTAACC\n",
      "\n",
      "Alignment from SRR424289\n",
      "\n",
      " id: WyIxa2dlbm9tZXMiLCJyZ3MiLCJOQTE5Njc4IiwiU1JSNDI0Mjg5LjE5Il0\n",
      " fragment_name: SRR424289.19\n",
      " aligned_sequence: AACCCTAACCCTAACCCTAACCCTAACCCTAACCCTAACCCTAACCCTAACCCTAACCCTAACCCTAACCCTAACCCTAACCCCAACCCTAACCCTAACCC\n",
      "\n",
      "Alignment from SRR442018\n",
      "\n",
      " id: WyIxa2dlbm9tZXMiLCJyZ3MiLCJOQTE5Njc4IiwiU1JSNDQyMDE4LjMyIl0\n",
      " fragment_name: SRR442018.32\n",
      " aligned_sequence: AACCCTAACCCTAACCCTAACCCTAACCCTAACCCTAACCCTAACCCTAACCCTAACCCAAACCCTAACCCTAACCCTAACCCTAACCCTAACCCTAACCC\n",
      "\n",
      "Alignment from SRR442019\n",
      "\n",
      " id: WyIxa2dlbm9tZXMiLCJyZ3MiLCJOQTE5Njc4IiwiU1JSNDQyMDE5LjIwIl0\n",
      " fragment_name: SRR442019.20\n",
      " aligned_sequence: AACCCTAACCCTAACCCTAACCCTAACCCTAACCCTAACCCTAACCCTAACCCTAACCCTAACCCTAACCCTAACCCTAACCCTAACCCTAACCCTAACCC\n",
      "\n",
      "Alignment from SRR442020\n",
      "\n",
      " id: WyIxa2dlbm9tZXMiLCJyZ3MiLCJOQTE5Njc4IiwiU1JSNDQyMDIwLjY2Il0\n",
      " fragment_name: SRR442020.66\n",
      " aligned_sequence: CCCTAACCCTAACCCTAACCCTAACCCTAACCCTAACCCTAACCCTAACCCTAACCCTAACCCTAACCCTAACCCTAACCCTAACCCTAACCCTAACCCTA\n",
      "\n"
     ]
    }
   ],
   "source": [
    "for read_group in read_group_set.read_groups:\n",
    "    print \"Alignment from {}\\n\".format(read_group.name)\n",
    "    alignment = c.search_reads(read_group_ids=[read_group.id], start=0, end=1000000, reference_id=\"WyJOQ0JJMzciLCIxIl0\").next()\n",
    "    print \" id: {}\".format(alignment.id)\n",
    "    print \" fragment_name: {}\".format(alignment.fragment_name)\n",
    "    print \" aligned_sequence: {}\\n\".format(alignment.aligned_sequence)"
   ]
  },
  {
   "cell_type": "markdown",
   "metadata": {},
   "source": [
    "#### For documentation on the service, and more information go to.\n",
    "https://ga4gh-schemas.readthedocs.io/en/latest/schemas/read_service.proto.html"
   ]
  }
 ],
 "metadata": {
  "kernelspec": {
   "display_name": "Python 2",
   "language": "python",
   "name": "python2"
  },
  "language_info": {
   "codemirror_mode": {
    "name": "ipython",
    "version": 2
   },
   "file_extension": ".py",
   "mimetype": "text/x-python",
   "name": "python",
   "nbconvert_exporter": "python",
   "pygments_lexer": "ipython2",
   "version": "2.7.11"
  },
  "widgets": {
   "state": {},
   "version": "1.1.1"
  }
 },
 "nbformat": 4,
 "nbformat_minor": 0
}
