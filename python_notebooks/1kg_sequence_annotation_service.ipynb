{
 "cells": [
  {
   "cell_type": "markdown",
   "metadata": {},
   "source": [
    "## GA4GH 1000 Genome Sequence Annotation Example\n",
    "\n",
    "This example illustrates how to access the sequence annotations for a given set of ...."
   ]
  },
  {
   "cell_type": "markdown",
   "metadata": {},
   "source": [
    "### Initialize Client\n",
    "In this step we create a client object which will be used to communicate with the server. It is initialized using the URL"
   ]
  },
  {
   "cell_type": "code",
   "execution_count": 1,
   "metadata": {
    "collapsed": true
   },
   "outputs": [],
   "source": [
    "import ga4gh_client.client as client\n",
    "c = client.HttpClient(\"http://1kgenomes.ga4gh.org\")"
   ]
  },
  {
   "cell_type": "markdown",
   "metadata": {},
   "source": [
    "### Search featuresets method\n",
    "--- Description --- `dataset_id` obtained from 1kg_metadata_service notebook."
   ]
  },
  {
   "cell_type": "code",
   "execution_count": 2,
   "metadata": {
    "collapsed": false
   },
   "outputs": [
    {
     "name": "stdout",
     "output_type": "stream",
     "text": [
      "id: \"WyIxa2dlbm9tZXMiLCJnZW5jb2RlX3YyNGxpZnQzNyJd\"\n",
      "dataset_id: \"WyIxa2dlbm9tZXMiXQ\"\n",
      "reference_set_id: \"WyJOQ0JJMzciXQ\"\n",
      "name: \"gencode_v24lift37\"\n",
      "\n",
      "id: \"WyIxa2dlbm9tZXMiLCJjZ2QiXQ\"\n",
      "dataset_id: \"WyIxa2dlbm9tZXMiXQ\"\n",
      "reference_set_id: \"WyJOQ0JJMzciXQ\"\n",
      "name: \"cgd\"\n",
      "\n"
     ]
    }
   ],
   "source": [
    "for feature_sets in c.search_feature_sets(dataset_id=\"WyIxa2dlbm9tZXMiXQ\"):\n",
    "    print feature_sets"
   ]
  },
  {
   "cell_type": "markdown",
   "metadata": {},
   "source": [
    "### Get featureset by id request\n",
    "By knowing the id of the `featureset_id` we can also obtain the set in a get request. Also note that in the following reuest we simply set `feature_set_id` to `feature_sets.id` which was obtained in the previous search request."
   ]
  },
  {
   "cell_type": "code",
   "execution_count": 3,
   "metadata": {
    "collapsed": false
   },
   "outputs": [
    {
     "name": "stdout",
     "output_type": "stream",
     "text": [
      "id: \"WyIxa2dlbm9tZXMiLCJjZ2QiXQ\"\n",
      "dataset_id: \"WyIxa2dlbm9tZXMiXQ\"\n",
      "reference_set_id: \"WyJOQ0JJMzciXQ\"\n",
      "name: \"cgd\"\n",
      "\n"
     ]
    }
   ],
   "source": [
    "feature_set = c.get_feature_set(feature_set_id=feature_sets.id)\n",
    "print feature_set"
   ]
  },
  {
   "cell_type": "markdown",
   "metadata": {},
   "source": [
    "### Search features method\n",
    "-- Description ~~ "
   ]
  },
  {
   "cell_type": "code",
   "execution_count": 4,
   "metadata": {
    "collapsed": false
   },
   "outputs": [
    {
     "name": "stdout",
     "output_type": "stream",
     "text": [
      "Id: WyIxa2dlbm9tZXMiLCJjZ2QiLCJodHRwOi8vb2hzdS5lZHUvY2dkLzFmY2IzNmYxIl0,\n",
      " Name: EGFR G719C missense mutation,\n",
      " Gene Symbol: EGFR G719C missense mutation,\n",
      " Parent Id: ,\n",
      " Feature Set Id: ,\n",
      " Reference Name: ,\n",
      " Start: 0,\tEnd: 0,\n",
      " Strand: 0,\n",
      "  Feature Type Id: http://purl.obolibrary.org/obo/SO_0001059,\n",
      "  Feature Type Term: sequence_alteration,\n",
      "  Feature Type Sorce Name: ,\n",
      "  Feature Type Source Version: \n",
      "\n",
      "Id: WyIxa2dlbm9tZXMiLCJjZ2QiLCJodHRwOi8vb2hzdS5lZHUvY2dkL2U2YjIxZWEwIl0,\n",
      " Name: MAP2K2 V35M, L46F, N126D, C125S missense mutation,\n",
      " Gene Symbol: MAP2K2 V35M, L46F, N126D, C125S missense mutation,\n",
      " Parent Id: ,\n",
      " Feature Set Id: ,\n",
      " Reference Name: ,\n",
      " Start: 0,\tEnd: 0,\n",
      " Strand: 0,\n",
      "  Feature Type Id: http://purl.obolibrary.org/obo/SO_0001059,\n",
      "  Feature Type Term: sequence_alteration,\n",
      "  Feature Type Sorce Name: ,\n",
      "  Feature Type Source Version: \n",
      "\n",
      "Id: WyIxa2dlbm9tZXMiLCJjZ2QiLCJodHRwOi8vb2hzdS5lZHUvY2dkL2UzZTI2MzFhIl0,\n",
      " Name: ALK  1151Tins insertion mutation,\n",
      " Gene Symbol: ALK  1151Tins insertion mutation,\n",
      " Parent Id: ,\n",
      " Feature Set Id: ,\n",
      " Reference Name: ,\n",
      " Start: 0,\tEnd: 0,\n",
      " Strand: 0,\n",
      "  Feature Type Id: http://purl.obolibrary.org/obo/SO_0001059,\n",
      "  Feature Type Term: sequence_alteration,\n",
      "  Feature Type Sorce Name: ,\n",
      "  Feature Type Source Version: \n",
      "\n",
      "Id: WyIxa2dlbm9tZXMiLCJjZ2QiLCJodHRwOi8vd3d3LmRydWdiYW5rLmNhL2RydWdzL0RCMDA1MTUiXQ,\n",
      " Name: cisplatin,\n",
      " Gene Symbol: cisplatin,\n",
      " Parent Id: ,\n",
      " Feature Set Id: ,\n",
      " Reference Name: ,\n",
      " Start: 0,\tEnd: 0,\n",
      " Strand: 0,\n",
      "  Feature Type Id: ,\n",
      "  Feature Type Term: ,\n",
      "  Feature Type Sorce Name: ,\n",
      "  Feature Type Source Version: \n",
      "\n",
      "Id: WyIxa2dlbm9tZXMiLCJjZ2QiLCJodHRwOi8vY2FuY2VyLnNhbmdlci5hYy51ay9jb3NtaWMvbXV0YXRpb24vb3ZlcnZpZXc_aWQ9NjI0MSJd,\n",
      " Name: EGFR S768I missense mutation,\n",
      " Gene Symbol: COSM6241,\n",
      " Parent Id: ,\n",
      " Feature Set Id: ,\n",
      " Reference Name: chr7,\n",
      " Start: 55249005,\tEnd: 55249006,\n",
      " Strand: 0,\n",
      "  Feature Type Id: http://purl.obolibrary.org/obo/SO_0001059,\n",
      "  Feature Type Term: sequence_alteration,\n",
      "  Feature Type Sorce Name: ,\n",
      "  Feature Type Source Version: \n",
      "\n",
      "Id: WyIxa2dlbm9tZXMiLCJjZ2QiLCJodHRwOi8vY2FuY2VyLnNhbmdlci5hYy51ay9jb3NtaWMvbXV0YXRpb24vb3ZlcnZpZXc_aWQ9NjI0MCJd,\n",
      " Name: EGFR T790M missense mutation,\n",
      " Gene Symbol: COSM6240,\n",
      " Parent Id: ,\n",
      " Feature Set Id: ,\n",
      " Reference Name: chr7,\n",
      " Start: 55249071,\tEnd: 55249071,\n",
      " Strand: 0,\n",
      "  Feature Type Id: http://purl.obolibrary.org/obo/SO_0001059,\n",
      "  Feature Type Term: sequence_alteration,\n",
      "  Feature Type Sorce Name: ,\n",
      "  Feature Type Source Version: \n",
      "\n"
     ]
    }
   ],
   "source": [
    "counter = 0\n",
    "for features in c.search_features(feature_set_id=feature_set.id):\n",
    "    if counter > 5:\n",
    "        break\n",
    "    counter += 1\n",
    "    print\"Id: {},\".format(features.id)\n",
    "    print\" Name: {},\".format(features.name)\n",
    "    print\" Gene Symbol: {},\".format(features.gene_symbol)\n",
    "    print\" Parent Id: {},\".format(features.parent_id)\n",
    "    if features.child_ids:\n",
    "        for i in features.child_ids:\n",
    "            print\" Child Ids: {}\".format(i)\n",
    "    print\" Feature Set Id: {},\".format(features.feature_set_id)\n",
    "    print\" Reference Name: {},\".format(features.reference_name)\n",
    "    print\" Start: {},\\tEnd: {},\".format(features.start, features.end)\n",
    "    print\" Strand: {},\".format(features.strand)\n",
    "    print\"  Feature Type Id: {},\".format(features.feature_type.id)\n",
    "    print\"  Feature Type Term: {},\".format(features.feature_type.term)\n",
    "    print\"  Feature Type Sorce Name: {},\".format(features.feature_type.source_name)\n",
    "    print\"  Feature Type Source Version: {}\\n\".format(features.feature_type.source_version)"
   ]
  },
  {
   "cell_type": "markdown",
   "metadata": {},
   "source": [
    "###### Note: Not all of the elements returned in the response are present in the example. All of the parameters will be shown in the get by id method."
   ]
  },
  {
   "cell_type": "code",
   "execution_count": 5,
   "metadata": {
    "collapsed": false
   },
   "outputs": [
    {
     "name": "stdout",
     "output_type": "stream",
     "text": [
      "Id: WyIxa2dlbm9tZXMiLCJjZ2QiLCJodHRwOi8vb2hzdS5lZHUvY2dkLzUzOGNhY2U0Il0,\n",
      " Name: NF1 any mutation,\n",
      " Gene Symbol: NF1 any mutation,\n",
      " Parent Id: ,\n",
      " Feature Set Id: ,\n",
      " Reference Name: ,\n",
      " Start: 0,\tEnd: 0,\n",
      " Strand: 0,\n",
      "  Feature Type Id: http://purl.obolibrary.org/obo/SO_0001059,\n",
      "  Feature Type Term: sequence_alteration,\n",
      "  Feature Type Sorce Name: ,\n",
      "  Feature Type Source Version: \n",
      "\n",
      "http://www.w3.org/1999/02/22-rdf-syntax-ns#type: http://purl.obolibrary.org/obo/SO_0001059\n",
      "http://purl.obolibrary.org/obo/RO_0002200: http://ohsu.edu/cgd/7fd7d0e6\n",
      "http://www.w3.org/2000/01/rdf-schema#label: NF1 any mutation\n"
     ]
    }
   ],
   "source": [
    "feature = c.get_feature(feature_id=features.id)\n",
    "print\"Id: {},\".format(feature.id)\n",
    "print\" Name: {},\".format(feature.name)\n",
    "print\" Gene Symbol: {},\".format(feature.gene_symbol)\n",
    "print\" Parent Id: {},\".format(feature.parent_id)\n",
    "if feature.child_ids:\n",
    "    for i in feature.child_ids:\n",
    "        print\" Child Ids: {}\".format(i)\n",
    "print\" Feature Set Id: {},\".format(feature.feature_set_id)\n",
    "print\" Reference Name: {},\".format(feature.reference_name)\n",
    "print\" Start: {},\\tEnd: {},\".format(feature.start, feature.end)\n",
    "print\" Strand: {},\".format(feature.strand)\n",
    "print\"  Feature Type Id: {},\".format(feature.feature_type.id)\n",
    "print\"  Feature Type Term: {},\".format(feature.feature_type.term)\n",
    "print\"  Feature Type Sorce Name: {},\".format(feature.feature_type.source_name)\n",
    "print\"  Feature Type Source Version: {}\\n\".format(feature.feature_type.source_version)\n",
    "for vals in feature.attributes.vals:\n",
    "    print\"{}: {}\".format(vals, feature.attributes.vals[vals].values[0].string_value)"
   ]
  },
  {
   "cell_type": "markdown",
   "metadata": {},
   "source": [
    "###### In this last call we represent all of the elements returned in the message. \n",
    "\n",
    "##### For documentation in the service, and more information go to:\n",
    "https://ga4gh-schemas.readthedocs.io/en/latest/schemas/allele_annotation_service.proto.html"
   ]
  }
 ],
 "metadata": {
  "kernelspec": {
   "display_name": "Python 2",
   "language": "python",
   "name": "python2"
  },
  "language_info": {
   "codemirror_mode": {
    "name": "ipython",
    "version": 2
   },
   "file_extension": ".py",
   "mimetype": "text/x-python",
   "name": "python",
   "nbconvert_exporter": "python",
   "pygments_lexer": "ipython2",
   "version": "2.7.11"
  },
  "widgets": {
   "state": {},
   "version": "1.1.1"
  }
 },
 "nbformat": 4,
 "nbformat_minor": 0
}
