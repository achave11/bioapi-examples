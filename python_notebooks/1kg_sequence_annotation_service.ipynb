{
 "cells": [
  {
   "cell_type": "markdown",
   "metadata": {},
   "source": [
    "## GA4GH 1000 Genome Sequence Annotation Example\n",
    "\n",
    "This example illustrates how to access the sequence annotations for a given set of ...."
   ]
  },
  {
   "cell_type": "markdown",
   "metadata": {},
   "source": [
    "### Initialize Client\n",
    "In this step we create a client object which will be used to communicate with the server. It is initialized using the URL"
   ]
  },
  {
   "cell_type": "code",
   "execution_count": 2,
   "metadata": {
    "collapsed": true
   },
   "outputs": [],
   "source": [
    "import ga4gh.client as client\n",
    "c = client.HttpClient(\"http://1kgenomes.ga4gh.org\")"
   ]
  },
  {
   "cell_type": "markdown",
   "metadata": {},
   "source": [
    "### Search featuresets method\n",
    "--- Description --- `dataset_id` obtained from 1kg_metadata_service notebook."
   ]
  },
  {
   "cell_type": "code",
   "execution_count": 3,
   "metadata": {
    "collapsed": false
   },
   "outputs": [
    {
     "name": "stdout",
     "output_type": "stream",
     "text": [
      "id: \"WyIxa2dlbm9tZXMiLCJnZW5jb2RlX3YyNGxpZnQzNyJd\"\n",
      "dataset_id: \"WyIxa2dlbm9tZXMiXQ\"\n",
      "reference_set_id: \"WyJOQ0JJMzciXQ\"\n",
      "name: \"gencode_v24lift37\"\n",
      "\n"
     ]
    }
   ],
   "source": [
    "for feature_sets in c.search_feature_sets(dataset_id=\"WyIxa2dlbm9tZXMiXQ\"):\n",
    "    print feature_sets"
   ]
  },
  {
   "cell_type": "markdown",
   "metadata": {},
   "source": [
    "### Get featureset by id request\n",
    "By knowing the id of the `featureset_id` we can also obtain the set in a get request. Also note that in the following reuest we simply set `feature_set_id` to `feature_sets.id` which was obtained in the previous search request."
   ]
  },
  {
   "cell_type": "code",
   "execution_count": 4,
   "metadata": {
    "collapsed": false
   },
   "outputs": [
    {
     "name": "stdout",
     "output_type": "stream",
     "text": [
      "id: \"WyIxa2dlbm9tZXMiLCJnZW5jb2RlX3YyNGxpZnQzNyJd\"\n",
      "dataset_id: \"WyIxa2dlbm9tZXMiXQ\"\n",
      "reference_set_id: \"WyJOQ0JJMzciXQ\"\n",
      "name: \"gencode_v24lift37\"\n",
      "\n"
     ]
    }
   ],
   "source": [
    "feature_set = c.get_feature_set(feature_set_id=feature_sets.id)\n",
    "print feature_set"
   ]
  },
  {
   "cell_type": "markdown",
   "metadata": {},
   "source": [
    "### Search features method\n",
    "-- Description ~~ "
   ]
  },
  {
   "cell_type": "code",
   "execution_count": 22,
   "metadata": {
    "collapsed": false
   },
   "outputs": [
    {
     "name": "stdout",
     "output_type": "stream",
     "text": [
      "Id: WyIxa2dlbm9tZXMiLCJnZW5jb2RlX3YyNGxpZnQzNyIsIjE0MDUwODI3NzM3MTc5MiJd,\n",
      " Name: exon:ENST00000621489.1:2,\n",
      " Gene Symbol: CH17-408M7.1,\n",
      " Parent Id: WyIxa2dlbm9tZXMiLCJnZW5jb2RlX3YyNGxpZnQzNyIsIjE0MDUwODI3NzM3MTQwOCJd,\n",
      " Feature Set Id: WyIxa2dlbm9tZXMiLCJnZW5jb2RlX3YyNGxpZnQzNyJd,\n",
      " Reference Name: GL000192.1,\n",
      " Start: 429710,\tEnd: 430271,\n",
      " Strand: 1,\n",
      "  Feature Type Id: SO:0000147,\n",
      "  Feature Type Term: exon,\n",
      "  Feature Type Sorce Name: so-xp,\n",
      "  Feature Type Source Version: so-xp/releases/2015-11-24/so-xp.owl\n",
      "\n",
      "Id: WyIxa2dlbm9tZXMiLCJnZW5jb2RlX3YyNGxpZnQzNyIsIjE0MDUwODI3NzM3MTAyNCJd,\n",
      " Name: ENSG00000277420.1,\n",
      " Gene Symbol: CH17-408M7.1,\n",
      " Parent Id: ,\n",
      " Child Ids: WyIxa2dlbm9tZXMiLCJnZW5jb2RlX3YyNGxpZnQzNyIsIjE0MDUwODI3NzM3MTQwOCJd\n",
      " Feature Set Id: WyIxa2dlbm9tZXMiLCJnZW5jb2RlX3YyNGxpZnQzNyJd,\n",
      " Reference Name: GL000192.1,\n",
      " Start: 429710,\tEnd: 440529,\n",
      " Strand: 1,\n",
      "  Feature Type Id: SO:0000704,\n",
      "  Feature Type Term: gene,\n",
      "  Feature Type Sorce Name: so-xp,\n",
      "  Feature Type Source Version: so-xp/releases/2015-11-24/so-xp.owl\n",
      "\n",
      "Id: WyIxa2dlbm9tZXMiLCJnZW5jb2RlX3YyNGxpZnQzNyIsIjE0MDUwODI3NzM3MTQwOCJd,\n",
      " Name: ENST00000621489.1,\n",
      " Gene Symbol: CH17-408M7.1,\n",
      " Parent Id: WyIxa2dlbm9tZXMiLCJnZW5jb2RlX3YyNGxpZnQzNyIsIjE0MDUwODI3NzM3MTAyNCJd,\n",
      " Child Ids: WyIxa2dlbm9tZXMiLCJnZW5jb2RlX3YyNGxpZnQzNyIsIjE0MDUwODI3NzM3MTc5MiJd\n",
      " Child Ids: WyIxa2dlbm9tZXMiLCJnZW5jb2RlX3YyNGxpZnQzNyIsIjE0MDUwODI3NzM3MTYwMCJd\n",
      " Feature Set Id: WyIxa2dlbm9tZXMiLCJnZW5jb2RlX3YyNGxpZnQzNyJd,\n",
      " Reference Name: GL000192.1,\n",
      " Start: 429710,\tEnd: 440529,\n",
      " Strand: 1,\n",
      "  Feature Type Id: SO:0000673,\n",
      "  Feature Type Term: transcript,\n",
      "  Feature Type Sorce Name: so-xp,\n",
      "  Feature Type Source Version: so-xp/releases/2015-11-24/so-xp.owl\n",
      "\n",
      "Id: WyIxa2dlbm9tZXMiLCJnZW5jb2RlX3YyNGxpZnQzNyIsIjE0MDUwODI3NzM3MTYwMCJd,\n",
      " Name: exon:ENST00000621489.1:1,\n",
      " Gene Symbol: CH17-408M7.1,\n",
      " Parent Id: WyIxa2dlbm9tZXMiLCJnZW5jb2RlX3YyNGxpZnQzNyIsIjE0MDUwODI3NzM3MTQwOCJd,\n",
      " Feature Set Id: WyIxa2dlbm9tZXMiLCJnZW5jb2RlX3YyNGxpZnQzNyJd,\n",
      " Reference Name: GL000192.1,\n",
      " Start: 438554,\tEnd: 440529,\n",
      " Strand: 1,\n",
      "  Feature Type Id: SO:0000147,\n",
      "  Feature Type Term: exon,\n",
      "  Feature Type Sorce Name: so-xp,\n",
      "  Feature Type Source Version: so-xp/releases/2015-11-24/so-xp.owl\n",
      "\n",
      "Id: WyIxa2dlbm9tZXMiLCJnZW5jb2RlX3YyNGxpZnQzNyIsIjE0MDUwODI3NzM3MTIxNiJd,\n",
      " Name: exon:ENST00000614199.1:2,\n",
      " Gene Symbol: RP11-640M9.4,\n",
      " Parent Id: WyIxa2dlbm9tZXMiLCJnZW5jb2RlX3YyNGxpZnQzNyIsIjE0MDUwODI3NzI1NjA4MCJd,\n",
      " Feature Set Id: WyIxa2dlbm9tZXMiLCJnZW5jb2RlX3YyNGxpZnQzNyJd,\n",
      " Reference Name: GL000192.1,\n",
      " Start: 493155,\tEnd: 493368,\n",
      " Strand: 1,\n",
      "  Feature Type Id: SO:0000147,\n",
      "  Feature Type Term: exon,\n",
      "  Feature Type Sorce Name: so-xp,\n",
      "  Feature Type Source Version: so-xp/releases/2015-11-24/so-xp.owl\n",
      "\n",
      "Id: WyIxa2dlbm9tZXMiLCJnZW5jb2RlX3YyNGxpZnQzNyIsIjE0MDUwODI3NzI1NDgwMCJd,\n",
      " Name: ENSG00000277655.1,\n",
      " Gene Symbol: RP11-640M9.4,\n",
      " Parent Id: ,\n",
      " Child Ids: WyIxa2dlbm9tZXMiLCJnZW5jb2RlX3YyNGxpZnQzNyIsIjE0MDUwODI3NzI1NjA4MCJd\n",
      " Feature Set Id: WyIxa2dlbm9tZXMiLCJnZW5jb2RlX3YyNGxpZnQzNyJd,\n",
      " Reference Name: GL000192.1,\n",
      " Start: 493155,\tEnd: 495565,\n",
      " Strand: 1,\n",
      "  Feature Type Id: SO:0000704,\n",
      "  Feature Type Term: gene,\n",
      "  Feature Type Sorce Name: so-xp,\n",
      "  Feature Type Source Version: so-xp/releases/2015-11-24/so-xp.owl\n",
      "\n"
     ]
    }
   ],
   "source": [
    "counter = 0\n",
    "for features in c.search_features(feature_set_id=feature_set.id):\n",
    "    if counter > 5:\n",
    "        break\n",
    "    counter += 1\n",
    "    print\"Id: {},\".format(features.id)\n",
    "    print\" Name: {},\".format(features.name)\n",
    "    print\" Gene Symbol: {},\".format(features.gene_symbol)\n",
    "    print\" Parent Id: {},\".format(features.parent_id)\n",
    "    if features.child_ids:\n",
    "        for i in features.child_ids:\n",
    "            print\" Child Ids: {}\".format(i)\n",
    "    print\" Feature Set Id: {},\".format(features.feature_set_id)\n",
    "    print\" Reference Name: {},\".format(features.reference_name)\n",
    "    print\" Start: {},\\tEnd: {},\".format(features.start, features.end)\n",
    "    print\" Strand: {},\".format(features.strand)\n",
    "    print\"  Feature Type Id: {},\".format(features.feature_type.id)\n",
    "    print\"  Feature Type Term: {},\".format(features.feature_type.term)\n",
    "    print\"  Feature Type Sorce Name: {},\".format(features.feature_type.source_name)\n",
    "    print\"  Feature Type Source Version: {}\\n\".format(features.feature_type.source_version)"
   ]
  },
  {
   "cell_type": "markdown",
   "metadata": {},
   "source": [
    "###### Note: Not all of the elements returned in the response are present in the example. All of the parameters will be shown in the get by id method."
   ]
  },
  {
   "cell_type": "code",
   "execution_count": 45,
   "metadata": {
    "collapsed": false
   },
   "outputs": [
    {
     "name": "stdout",
     "output_type": "stream",
     "text": [
      "Id: WyIxa2dlbm9tZXMiLCJnZW5jb2RlX3YyNGxpZnQzNyIsIjE0MDUwODI3NzI1NjA4MCJd,\n",
      " Name: ENST00000614199.1,\n",
      " Gene Symbol: RP11-640M9.4,\n",
      " Parent Id: WyIxa2dlbm9tZXMiLCJnZW5jb2RlX3YyNGxpZnQzNyIsIjE0MDUwODI3NzI1NDgwMCJd,\n",
      " Child Ids: WyIxa2dlbm9tZXMiLCJnZW5jb2RlX3YyNGxpZnQzNyIsIjE0MDUwODI3NzM3MTIxNiJd\n",
      " Child Ids: WyIxa2dlbm9tZXMiLCJnZW5jb2RlX3YyNGxpZnQzNyIsIjE0MDUwODI3NzI1NjAxNiJd\n",
      " Feature Set Id: WyIxa2dlbm9tZXMiLCJnZW5jb2RlX3YyNGxpZnQzNyJd,\n",
      " Reference Name: GL000192.1,\n",
      " Start: 493155,\tEnd: 495565,\n",
      " Strand: 1,\n",
      "  Feature Type Id: SO:0000673,\n",
      "  Feature Type Term: transcript,\n",
      "  Feature Type Sorce Name: so-xp,\n",
      "  Feature Type Source Version: so-xp/releases/2015-11-24/so-xp.owl\n",
      "\n",
      "ont: PGO:0000005\n",
      "gene_status: KNOWN\n",
      "havana_gene: OTTHUMG00000187535.3\n",
      "transcript_support_level: NA\n",
      "Parent: ENSG00000277655.1\n",
      "level: 2\n",
      "transcript_status: KNOWN\n",
      "tag: basic\n",
      "remap_num_mappings: 1\n",
      "transcript_type: unprocessed_pseudogene\n",
      "transcript_name: RP11-640M9.4-001\n",
      "gene_id: ENSG00000277655.1\n",
      "havana_transcript: OTTHUMT00000475232.3\n",
      "transcript_id: ENST00000614199.1\n",
      "gene_type: unprocessed_pseudogene\n",
      "remap_status: full_contig\n",
      "ID: ENST00000614199.1\n",
      "gene_name: RP11-640M9.4\n",
      "remap_target_status: new\n"
     ]
    }
   ],
   "source": [
    "feature = c.get_feature(feature_id=features.id)\n",
    "print\"Id: {},\".format(feature.id)\n",
    "print\" Name: {},\".format(feature.name)\n",
    "print\" Gene Symbol: {},\".format(feature.gene_symbol)\n",
    "print\" Parent Id: {},\".format(feature.parent_id)\n",
    "if feature.child_ids:\n",
    "    for i in feature.child_ids:\n",
    "        print\" Child Ids: {}\".format(i)\n",
    "print\" Feature Set Id: {},\".format(feature.feature_set_id)\n",
    "print\" Reference Name: {},\".format(feature.reference_name)\n",
    "print\" Start: {},\\tEnd: {},\".format(feature.start, feature.end)\n",
    "print\" Strand: {},\".format(feature.strand)\n",
    "print\"  Feature Type Id: {},\".format(feature.feature_type.id)\n",
    "print\"  Feature Type Term: {},\".format(feature.feature_type.term)\n",
    "print\"  Feature Type Sorce Name: {},\".format(feature.feature_type.source_name)\n",
    "print\"  Feature Type Source Version: {}\\n\".format(feature.feature_type.source_version)\n",
    "for vals in feature.attributes.vals:\n",
    "    print\"{}: {}\".format(vals, feature.attributes.vals[vals].values[0].string_value)"
   ]
  },
  {
   "cell_type": "markdown",
   "metadata": {},
   "source": [
    "###### In this last call we represent all of the elements returned in the message. \n",
    "\n",
    "##### For documentation in the service, and more information go to:\n",
    "https://ga4gh-schemas.readthedocs.io/en/latest/schemas/allele_annotation_service.proto.html"
   ]
  }
 ],
 "metadata": {
  "kernelspec": {
   "display_name": "Python 2",
   "language": "python",
   "name": "python2"
  },
  "language_info": {
   "codemirror_mode": {
    "name": "ipython",
    "version": 2
   },
   "file_extension": ".py",
   "mimetype": "text/x-python",
   "name": "python",
   "nbconvert_exporter": "python",
   "pygments_lexer": "ipython2",
   "version": "2.7.11"
  },
  "widgets": {
   "state": {},
   "version": "1.1.1"
  }
 },
 "nbformat": 4,
 "nbformat_minor": 0
}
