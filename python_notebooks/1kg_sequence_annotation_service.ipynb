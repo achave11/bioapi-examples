{
 "cells": [
  {
   "cell_type": "markdown",
   "metadata": {},
   "source": [
    "## GA4GH 1000 Genome Sequence Annotation Example\n",
    "\n",
    "This example illustrates how to access the sequence annotations for a given set of ...."
   ]
  },
  {
   "cell_type": "markdown",
   "metadata": {},
   "source": [
    "### Initialize Client\n",
    "In this step we create a client object which will be used to communicate with the server. It is initialized using the URL"
   ]
  },
  {
   "cell_type": "code",
   "execution_count": 1,
   "metadata": {
    "collapsed": true
   },
   "outputs": [],
   "source": [
    "import ga4gh.client as client\n",
    "c = client.HttpClient(\"http://1kgenomes.ga4gh.org\")"
   ]
  },
  {
   "cell_type": "markdown",
   "metadata": {},
   "source": [
    "### Search featuresets method\n",
    "--- Description --- `dataset_id` obtained from 1kg_metadata_service notebook."
   ]
  },
  {
   "cell_type": "code",
   "execution_count": 5,
   "metadata": {
    "collapsed": false
   },
   "outputs": [
    {
     "name": "stdout",
     "output_type": "stream",
     "text": [
      "id: \"WyIxa2dlbm9tZXMiLCJnZW5jb2RlX3YyNGxpZnQzNyJd\"\n",
      "dataset_id: \"WyIxa2dlbm9tZXMiXQ\"\n",
      "reference_set_id: \"WyJOQ0JJMzciXQ\"\n",
      "name: \"gencode_v24lift37\"\n",
      "\n"
     ]
    }
   ],
   "source": [
    "for feature_sets in c.search_feature_sets(dataset_id=\"WyIxa2dlbm9tZXMiXQ\"):\n",
    "    print feature_sets"
   ]
  },
  {
   "cell_type": "markdown",
   "metadata": {},
   "source": [
    "### Get featureset by id request\n",
    "By knowing the id of the `featureset_id` we can also obtain the set in a get request. Also note that in the following reuest we simply set `feature_set_id` to `feature_sets.id` which was obtained in the previous search request."
   ]
  },
  {
   "cell_type": "code",
   "execution_count": 8,
   "metadata": {
    "collapsed": false
   },
   "outputs": [
    {
     "name": "stdout",
     "output_type": "stream",
     "text": [
      "id: \"WyIxa2dlbm9tZXMiLCJnZW5jb2RlX3YyNGxpZnQzNyJd\"\n",
      "dataset_id: \"WyIxa2dlbm9tZXMiXQ\"\n",
      "reference_set_id: \"WyJOQ0JJMzciXQ\"\n",
      "name: \"gencode_v24lift37\"\n",
      "\n"
     ]
    }
   ],
   "source": [
    "feature_set = c.get_feature_set(feature_set_id=feature_sets.id)\n",
    "print feature_set"
   ]
  },
  {
   "cell_type": "markdown",
   "metadata": {},
   "source": [
    "### Search features method\n",
    "-- Description ~~ "
   ]
  },
  {
   "cell_type": "code",
   "execution_count": null,
   "metadata": {
    "collapsed": false
   },
   "outputs": [],
   "source": [
    "# counter = 0\n",
    "# for features in c.search_features(feature_set_id=feature_set.id):\n",
    "#     if counter > 5:\n",
    "#         break\n",
    "#     counter += 1\n",
    "#     print features"
   ]
  },
  {
   "cell_type": "code",
   "execution_count": 10,
   "metadata": {
    "collapsed": false
   },
   "outputs": [
    {
     "data": {
      "text/plain": [
       "id: \"WyIxa2dlbm9tZXMiLCJnZW5jb2RlX3YyNGxpZnQzNyIsIjE0MDUwODI3NzM3MTc5MiJd\"\n",
       "name: \"exon:ENST00000621489.1:2\"\n",
       "gene_symbol: \"CH17-408M7.1\"\n",
       "parent_id: \"WyIxa2dlbm9tZXMiLCJnZW5jb2RlX3YyNGxpZnQzNyIsIjE0MDUwODI3NzM3MTQwOCJd\"\n",
       "feature_set_id: \"WyIxa2dlbm9tZXMiLCJnZW5jb2RlX3YyNGxpZnQzNyJd\"\n",
       "reference_name: \"GL000192.1\"\n",
       "start: 429710\n",
       "end: 430271\n",
       "strand: NEG_STRAND\n",
       "feature_type {\n",
       "  id: \"SO:0000147\"\n",
       "  term: \"exon\"\n",
       "  source_name: \"so-xp\"\n",
       "  source_version: \"so-xp/releases/2015-11-24/so-xp.owl\"\n",
       "}\n",
       "attributes {\n",
       "  vals {\n",
       "    key: \"ID\"\n",
       "    value {\n",
       "      values {\n",
       "        string_value: \"exon:ENST00000621489.1:2\"\n",
       "      }\n",
       "    }\n",
       "  }\n",
       "  vals {\n",
       "    key: \"Parent\"\n",
       "    value {\n",
       "      values {\n",
       "        string_value: \"ENST00000621489.1\"\n",
       "      }\n",
       "    }\n",
       "  }\n",
       "  vals {\n",
       "    key: \"exon_id\"\n",
       "    value {\n",
       "      values {\n",
       "        string_value: \"ENSE00003744943.1\"\n",
       "      }\n",
       "    }\n",
       "  }\n",
       "  vals {\n",
       "    key: \"exon_number\"\n",
       "    value {\n",
       "      values {\n",
       "        string_value: \"2\"\n",
       "      }\n",
       "    }\n",
       "  }\n",
       "  vals {\n",
       "    key: \"gene_id\"\n",
       "    value {\n",
       "      values {\n",
       "        string_value: \"ENSG00000277420.1\"\n",
       "      }\n",
       "    }\n",
       "  }\n",
       "  vals {\n",
       "    key: \"gene_name\"\n",
       "    value {\n",
       "      values {\n",
       "        string_value: \"CH17-408M7.1\"\n",
       "      }\n",
       "    }\n",
       "  }\n",
       "  vals {\n",
       "    key: \"gene_status\"\n",
       "    value {\n",
       "      values {\n",
       "        string_value: \"KNOWN\"\n",
       "      }\n",
       "    }\n",
       "  }\n",
       "  vals {\n",
       "    key: \"gene_type\"\n",
       "    value {\n",
       "      values {\n",
       "        string_value: \"lincRNA\"\n",
       "      }\n",
       "    }\n",
       "  }\n",
       "  vals {\n",
       "    key: \"havana_gene\"\n",
       "    value {\n",
       "      values {\n",
       "        string_value: \"OTTHUMG00000188837.1\"\n",
       "      }\n",
       "    }\n",
       "  }\n",
       "  vals {\n",
       "    key: \"havana_transcript\"\n",
       "    value {\n",
       "      values {\n",
       "        string_value: \"OTTHUMT00000478151.1\"\n",
       "      }\n",
       "    }\n",
       "  }\n",
       "  vals {\n",
       "    key: \"level\"\n",
       "    value {\n",
       "      values {\n",
       "        string_value: \"2\"\n",
       "      }\n",
       "    }\n",
       "  }\n",
       "  vals {\n",
       "    key: \"remap_original_location\"\n",
       "    value {\n",
       "      values {\n",
       "        string_value: \"chr1:+:146524728-146525289\"\n",
       "      }\n",
       "    }\n",
       "  }\n",
       "  vals {\n",
       "    key: \"remap_status\"\n",
       "    value {\n",
       "      values {\n",
       "        string_value: \"full_contig\"\n",
       "      }\n",
       "    }\n",
       "  }\n",
       "  vals {\n",
       "    key: \"tag\"\n",
       "    value {\n",
       "      values {\n",
       "        string_value: \"basic\"\n",
       "      }\n",
       "    }\n",
       "  }\n",
       "  vals {\n",
       "    key: \"transcript_id\"\n",
       "    value {\n",
       "      values {\n",
       "        string_value: \"ENST00000621489.1\"\n",
       "      }\n",
       "    }\n",
       "  }\n",
       "  vals {\n",
       "    key: \"transcript_name\"\n",
       "    value {\n",
       "      values {\n",
       "        string_value: \"CH17-408M7.1-001\"\n",
       "      }\n",
       "    }\n",
       "  }\n",
       "  vals {\n",
       "    key: \"transcript_status\"\n",
       "    value {\n",
       "      values {\n",
       "        string_value: \"KNOWN\"\n",
       "      }\n",
       "    }\n",
       "  }\n",
       "  vals {\n",
       "    key: \"transcript_support_level\"\n",
       "    value {\n",
       "      values {\n",
       "        string_value: \"2\"\n",
       "      }\n",
       "    }\n",
       "  }\n",
       "  vals {\n",
       "    key: \"transcript_type\"\n",
       "    value {\n",
       "      values {\n",
       "        string_value: \"lincRNA\"\n",
       "      }\n",
       "    }\n",
       "  }\n",
       "}"
      ]
     },
     "execution_count": 10,
     "metadata": {},
     "output_type": "execute_result"
    }
   ],
   "source": [
    "c.search_features(feature_set_id=feature_set.id).next()"
   ]
  },
  {
   "cell_type": "code",
   "execution_count": null,
   "metadata": {
    "collapsed": true
   },
   "outputs": [],
   "source": []
  }
 ],
 "metadata": {
  "kernelspec": {
   "display_name": "Python 2",
   "language": "python",
   "name": "python2"
  },
  "language_info": {
   "codemirror_mode": {
    "name": "ipython",
    "version": 2
   },
   "file_extension": ".py",
   "mimetype": "text/x-python",
   "name": "python",
   "nbconvert_exporter": "python",
   "pygments_lexer": "ipython2",
   "version": "2.7.11"
  },
  "widgets": {
   "state": {},
   "version": "1.1.1"
  }
 },
 "nbformat": 4,
 "nbformat_minor": 0
}
