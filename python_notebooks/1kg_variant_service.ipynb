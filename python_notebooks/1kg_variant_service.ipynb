{
 "cells": [
  {
   "cell_type": "markdown",
   "metadata": {
    "collapsed": true
   },
   "source": [
    "## GA4GH 1000 Genome Variant Service Example\n",
    "This example illustrates how to access the GA4GH variant service.\n",
    "\n",
    "The GA4GH variant service interchanges variant data similar to that found in VCF. It includes metadata related to variant entries and calls, which are the observed genetic variations pertaining to a given sample."
   ]
  },
  {
   "cell_type": "markdown",
   "metadata": {},
   "source": [
    "### Initialize the client\n",
    "In this step we create a client object which will be used to communicate with the server. It is initialized using the URL."
   ]
  },
  {
   "cell_type": "code",
   "execution_count": 1,
   "metadata": {
    "collapsed": true
   },
   "outputs": [],
   "source": [
    "import ga4gh_client.client as client\n",
    "c = client.HttpClient(\"http://1kgenomes.ga4gh.org\")"
   ]
  },
  {
   "cell_type": "markdown",
   "metadata": {},
   "source": [
    "### Search variant sets method\n",
    "This call returns variant sets hosted by the API. Observe that we are using the dataset id obtained from the metadata service example."
   ]
  },
  {
   "cell_type": "code",
   "execution_count": 2,
   "metadata": {
    "collapsed": false
   },
   "outputs": [
    {
     "name": "stdout",
     "output_type": "stream",
     "text": [
      "Variant Set: phase3-release\n",
      " id: WyIxa2dlbm9tZXMiLCJ2cyIsInBoYXNlMy1yZWxlYXNlIl0\n",
      " dataset_id: WyIxa2dlbm9tZXMiXQ\n",
      " reference_set_id: WyJOQ0JJMzciXQ\n",
      "\n",
      "Variant Set: functional-annotation\n",
      " id: WyIxa2dlbm9tZXMiLCJ2cyIsImZ1bmN0aW9uYWwtYW5ub3RhdGlvbiJd\n",
      " dataset_id: WyIxa2dlbm9tZXMiXQ\n",
      " reference_set_id: WyJOQ0JJMzciXQ\n",
      "\n"
     ]
    }
   ],
   "source": [
    "for variant_set in c.search_variant_sets(dataset_id=\"WyIxa2dlbm9tZXMiXQ\"):\n",
    "    print \"Variant Set: {}\".format(variant_set.name)\n",
    "    print \" id: {}\".format(variant_set.id)\n",
    "    print \" dataset_id: {}\".format(variant_set.dataset_id)\n",
    "    print \" reference_set_id: {}\\n\".format(variant_set.reference_set_id)"
   ]
  },
  {
   "cell_type": "markdown",
   "metadata": {},
   "source": [
    "###### Note: \n",
    "    In the previous call, not all the elements returned are printed to the screen.\n",
    "    Below we will look at the metadata descriptions in a variant set."
   ]
  },
  {
   "cell_type": "markdown",
   "metadata": {},
   "source": [
    "### Get Variant Set by ID method\n",
    "The following request returns a Variant Set by `id`. This identifier is unique to the server instance."
   ]
  },
  {
   "cell_type": "code",
   "execution_count": 3,
   "metadata": {
    "collapsed": false
   },
   "outputs": [
    {
     "name": "stdout",
     "output_type": "stream",
     "text": [
      "name: phase3-release\n",
      "dataset_id: WyIxa2dlbm9tZXMiXQ\n",
      "reference_set_id: WyJOQ0JJMzciXQ\n",
      "key: \"version\"\n",
      "value: \"VCFv4.1\"\n",
      "id: \"WyIxa2dlbm9tZXMiLCJ2cyIsInBoYXNlMy1yZWxlYXNlIiwibWV0YWRhdGE6dmVyc2lvbiJd\"\n",
      "type: \"String\"\n",
      "number: \"1\"\n",
      "\n",
      "key: \"INFO.CIEND\"\n",
      "id: \"WyIxa2dlbm9tZXMiLCJ2cyIsInBoYXNlMy1yZWxlYXNlIiwibWV0YWRhdGE6SU5GTy5DSUVORCJd\"\n",
      "type: \"Integer\"\n",
      "number: \"2\"\n",
      "description: \"Confidence interval around END for imprecise variants\"\n",
      "\n",
      "key: \"INFO.CIPOS\"\n",
      "id: \"WyIxa2dlbm9tZXMiLCJ2cyIsInBoYXNlMy1yZWxlYXNlIiwibWV0YWRhdGE6SU5GTy5DSVBPUyJd\"\n",
      "type: \"Integer\"\n",
      "number: \"2\"\n",
      "description: \"Confidence interval around POS for imprecise variants\"\n",
      "\n"
     ]
    }
   ],
   "source": [
    "variant_set = c.get_variant_set(variant_set_id=\"WyIxa2dlbm9tZXMiLCJ2cyIsInBoYXNlMy1yZWxlYXNlIl0\")\n",
    "print \"name: {}\".format(variant_set.name)\n",
    "print \"dataset_id: {}\".format(variant_set.dataset_id)\n",
    "print \"reference_set_id: {}\".format(variant_set.reference_set_id)\n",
    "for metadata in variant_set.metadata[0:3]:\n",
    "    print metadata"
   ]
  },
  {
   "cell_type": "markdown",
   "metadata": {
    "collapsed": true
   },
   "source": [
    "The metadata fields of a Variant Set message can be used to interpret fields annotated about a variant, which will be addressed later in this document."
   ]
  },
  {
   "cell_type": "markdown",
   "metadata": {},
   "source": [
    "### Search Variants method\n",
    "Using the `variant_set_id` returned in one of the previous calls we constrain our variant search to a single variant set."
   ]
  },
  {
   "cell_type": "code",
   "execution_count": 4,
   "metadata": {
    "collapsed": false
   },
   "outputs": [
    {
     "name": "stdout",
     "output_type": "stream",
     "text": [
      "Variant id: WyIxa2dlbm...\n",
      "Variant Set Id: WyIxa2dlbm9tZXMiLCJ2cyIsInBoYXNlMy1yZWxlYXNlIl0\n",
      "Names: [u'rs367896724']\n",
      "Reference Chromosome: 1\n",
      "Start: 10176, End: 10177\n",
      "Reference Bases: A\n",
      "Alternate Bases: [u'AC']\n",
      "\n",
      "Variant id: WyIxa2dlbm...\n",
      "Variant Set Id: WyIxa2dlbm9tZXMiLCJ2cyIsInBoYXNlMy1yZWxlYXNlIl0\n",
      "Names: [u'rs540431307']\n",
      "Reference Chromosome: 1\n",
      "Start: 10234, End: 10235\n",
      "Reference Bases: T\n",
      "Alternate Bases: [u'TA']\n",
      "\n",
      "Variant id: WyIxa2dlbm...\n",
      "Variant Set Id: WyIxa2dlbm9tZXMiLCJ2cyIsInBoYXNlMy1yZWxlYXNlIl0\n",
      "Names: [u'rs555500075']\n",
      "Reference Chromosome: 1\n",
      "Start: 10351, End: 10352\n",
      "Reference Bases: T\n",
      "Alternate Bases: [u'TA']\n",
      "\n",
      "Variant id: WyIxa2dlbm...\n",
      "Variant Set Id: WyIxa2dlbm9tZXMiLCJ2cyIsInBoYXNlMy1yZWxlYXNlIl0\n",
      "Names: [u'rs548419688']\n",
      "Reference Chromosome: 1\n",
      "Start: 10504, End: 10505\n",
      "Reference Bases: A\n",
      "Alternate Bases: [u'T']\n",
      "\n",
      "Variant id: WyIxa2dlbm...\n",
      "Variant Set Id: WyIxa2dlbm9tZXMiLCJ2cyIsInBoYXNlMy1yZWxlYXNlIl0\n",
      "Names: [u'rs568405545']\n",
      "Reference Chromosome: 1\n",
      "Start: 10505, End: 10506\n",
      "Reference Bases: C\n",
      "Alternate Bases: [u'G']\n",
      "\n",
      "Variant id: WyIxa2dlbm...\n",
      "Variant Set Id: WyIxa2dlbm9tZXMiLCJ2cyIsInBoYXNlMy1yZWxlYXNlIl0\n",
      "Names: [u'rs534229142']\n",
      "Reference Chromosome: 1\n",
      "Start: 10510, End: 10511\n",
      "Reference Bases: G\n",
      "Alternate Bases: [u'A']\n",
      "\n"
     ]
    }
   ],
   "source": [
    "counter = 0\n",
    "for variant in c.search_variants(variant_set_id=\"WyIxa2dlbm9tZXMiLCJ2cyIsInBoYXNlMy1yZWxlYXNlIl0\", reference_name=\"1\", start=10176, end= 40176):\n",
    "    if counter > 5:\n",
    "        break\n",
    "    counter += 1\n",
    "    print \"Variant id: {}...\".format(variant.id[0:10])\n",
    "    print \"Variant Set Id: {}\".format(variant.variant_set_id)\n",
    "    print \"Names: {}\".format(variant.names)\n",
    "    print \"Reference Chromosome: {}\".format(variant.reference_name)\n",
    "    print \"Start: {}, End: {}\".format(variant.start, variant.end)\n",
    "    print \"Reference Bases: {}\".format(variant.reference_bases)\n",
    "    print \"Alternate Bases: {}\\n\".format(variant.alternate_bases)"
   ]
  },
  {
   "cell_type": "markdown",
   "metadata": {},
   "source": [
    "###### The fields shown above are selected named fields in the data model. Note that the data returned is richer, and will be illiustrated in the following example by examining the `info` field."
   ]
  },
  {
   "cell_type": "markdown",
   "metadata": {},
   "source": [
    "### Get Variant by ID method\n",
    "We can get a variant record, if we know its unique identifier, by performing a get variant call. We use one of the variant identifiers obtained above. We will then list all of the data available in the `info` field."
   ]
  },
  {
   "cell_type": "code",
   "execution_count": 5,
   "metadata": {
    "collapsed": false
   },
   "outputs": [
    {
     "name": "stdout",
     "output_type": "stream",
     "text": [
      "idd: WyIxa2dlbm9tZXMiLCJ2cyIsInBoYXNlMy1yZWxlYXNlIiwiMSIsIjEwNTM4IiwiMTg2ZjhiZTU3MTg2OWQ3Y2UzMmY4MDNlMGRlMjZlOTUiXQ\n",
      "Variant Set Id: WyIxa2dlbm9tZXMiLCJ2cyIsInBoYXNlMy1yZWxlYXNlIl0\n",
      "Names: [u'rs537182016']\n",
      "Reference Name: 1\n",
      "Start: 10538, End: 10539\n",
      "Reference Bases: C\n",
      "Alternate Bases: [u'A']\n",
      "\n",
      "Key: EUR_AF,\tValues: 0.0010000000475\n",
      "Key: SAS_AF,\tValues: 0.0010000000475\n",
      "Key: AC,\tValues: 3\n",
      "Key: AA,\tValues: .|||\n",
      "Key: AF,\tValues: 0.000599041988607\n",
      "Key: AFR_AF,\tValues: 0.0\n",
      "Key: AMR_AF,\tValues: 0.00139999995008\n",
      "Key: AN,\tValues: 5008\n",
      "Key: VT,\tValues: SNP\n",
      "Key: EAS_AF,\tValues: 0.0\n",
      "Key: NS,\tValues: 2504\n",
      "Key: DP,\tValues: 9203\n"
     ]
    }
   ],
   "source": [
    "single_variant = c.get_variant(variant_id=variant.id)\n",
    "print \"idd: {}\".format(single_variant.id)\n",
    "print \"Variant Set Id: {}\".format(single_variant.variant_set_id)\n",
    "print \"Names: {}\".format(single_variant.names)\n",
    "print \"Reference Name: {}\".format(single_variant.reference_name)\n",
    "print \"Start: {}, End: {}\".format(single_variant.start, single_variant.end)\n",
    "print \"Reference Bases: {}\".format(single_variant.reference_bases)\n",
    "print \"Alternate Bases: {}\\n\".format(single_variant.alternate_bases)\n",
    "for info in single_variant.info:\n",
    "    print \"Key: {},\\tValues: {}\".format(info, single_variant.info[info].values[0].string_value)"
   ]
  },
  {
   "cell_type": "markdown",
   "metadata": {},
   "source": [
    "Using the `variant_set.metadata` message we can interpret these annotations."
   ]
  },
  {
   "cell_type": "code",
   "execution_count": 6,
   "metadata": {
    "collapsed": false
   },
   "outputs": [
    {
     "name": "stdout",
     "output_type": "stream",
     "text": [
      "\n",
      "Key: EUR_AF     Value: 0.0010000000475     Type: Float\n",
      " Allele frequency in the EUR populations calculated from AC and AN, in the range (0,1)\n",
      "\n",
      "Key: SAS_AF     Value: 0.0010000000475     Type: Float\n",
      " Allele frequency in the SAS populations calculated from AC and AN, in the range (0,1)\n",
      "\n",
      "Key: AC     Value: 3     Type: Integer\n",
      " Total number of alternate alleles in called genotypes\n",
      "\n",
      "Key: AA     Value: .|||     Type: String\n",
      " Ancestral Allele. Format: AA|REF|ALT|IndelType. AA: Ancestral allele, REF:Reference Allele, ALT:Alternate Allele, IndelType:Type of Indel (REF, ALT and IndelType are only defined for indels)\n",
      "\n",
      "Key: AF     Value: 0.000599041988607     Type: Float\n",
      " Estimated allele frequency in the range (0,1)\n",
      "\n",
      "Key: AFR_AF     Value: 0.0     Type: Float\n",
      " Allele frequency in the AFR populations calculated from AC and AN, in the range (0,1)\n",
      "\n",
      "Key: AMR_AF     Value: 0.00139999995008     Type: Float\n",
      " Allele frequency in the AMR populations calculated from AC and AN, in the range (0,1)\n",
      "\n",
      "Key: AN     Value: 5008     Type: Integer\n",
      " Total number of alleles in called genotypes\n",
      "\n",
      "Key: VT     Value: SNP     Type: String\n",
      " indicates what type of variant the line represents\n",
      "\n",
      "Key: EAS_AF     Value: 0.0     Type: Float\n",
      " Allele frequency in the EAS populations calculated from AC and AN, in the range (0,1)\n",
      "\n",
      "Key: NS     Value: 2504     Type: Integer\n",
      " Number of samples with data\n",
      "\n",
      "Key: DP     Value: 9203     Type: Integer\n",
      " Total read depth; only low coverage data were counted towards the DP, exome data were not used\n"
     ]
    }
   ],
   "source": [
    "metadata_dictionary = {}\n",
    "for metadata in variant_set.metadata:\n",
    "    metadata_dictionary[metadata.key] = metadata # Load the metadata elements into a dictionary\n",
    "for key in single_variant.info:\n",
    "    metadata_entry = metadata_dictionary[\"INFO.\" + key]\n",
    "    print \"\\nKey: {}     Value: {}     Type: {}\".format(\n",
    "        key,\n",
    "        single_variant.info[key].values[0].string_value,\n",
    "        metadata_entry.type)\n",
    "    print \" \" + metadata_entry.description"
   ]
  },
  {
   "cell_type": "markdown",
   "metadata": {},
   "source": [
    "### Search Call Sets method\n",
    "Call sets represent a sample's column in a VCF, or the collection of observed sequences from a particular variation analysis. The Thousand Genomes data presents the variation data of 2504 individuals through 2504 callsets. These Call Sets ca be used to construct queries for individual genomic variations."
   ]
  },
  {
   "cell_type": "code",
   "execution_count": 7,
   "metadata": {
    "collapsed": false
   },
   "outputs": [
    {
     "name": "stdout",
     "output_type": "stream",
     "text": [
      "Call Set Name: HG00096\n",
      "  id: HG00096\n",
      "  bio_sample_id: HG00096\n",
      "  variant_set_ids: [u'WyIxa2dlbm9tZXMiLCJ2cyIsInBoYXNlMy1yZWxlYXNlIl0']\n",
      "\n",
      "Call Set Name: HG00097\n",
      "  id: HG00097\n",
      "  bio_sample_id: HG00097\n",
      "  variant_set_ids: [u'WyIxa2dlbm9tZXMiLCJ2cyIsInBoYXNlMy1yZWxlYXNlIl0']\n",
      "\n",
      "Call Set Name: HG00099\n",
      "  id: HG00099\n",
      "  bio_sample_id: HG00099\n",
      "  variant_set_ids: [u'WyIxa2dlbm9tZXMiLCJ2cyIsInBoYXNlMy1yZWxlYXNlIl0']\n",
      "\n",
      "Call Set Name: HG00100\n",
      "  id: HG00100\n",
      "  bio_sample_id: HG00100\n",
      "  variant_set_ids: [u'WyIxa2dlbm9tZXMiLCJ2cyIsInBoYXNlMy1yZWxlYXNlIl0']\n",
      "\n"
     ]
    }
   ],
   "source": [
    "counter = 0\n",
    "list_of_callset_ids = [] # Will use this list near the end to make a search variants query\n",
    "for call_set in c.search_call_sets(variant_set_id=single_variant.variant_set_id):\n",
    "    if counter > 3:\n",
    "        break\n",
    "    else:\n",
    "        counter += 1\n",
    "        list_of_callset_ids.append(call_set.id)\n",
    "        print \"Call Set Name: {}\".format(call_set.name)\n",
    "        print \"  id: {}\".format(call_set.name)\n",
    "        print \"  bio_sample_id: {}\".format(call_set.name)\n",
    "        print \"  variant_set_ids: {}\\n\".format(call_set.variant_set_ids)"
   ]
  },
  {
   "cell_type": "markdown",
   "metadata": {},
   "source": [
    "### Get Call Set by ID method\n",
    "Using one of the identifiers obtained in the previous call we can get a single Call Set element. This identifier is unique to the server instance."
   ]
  },
  {
   "cell_type": "code",
   "execution_count": 8,
   "metadata": {
    "collapsed": false
   },
   "outputs": [
    {
     "name": "stdout",
     "output_type": "stream",
     "text": [
      "id: \"WyIxa2dlbm9tZXMiLCJ2cyIsInBoYXNlMy1yZWxlYXNlIiwiSEcwMDEwMSJd\"\n",
      "name: \"HG00101\"\n",
      "bio_sample_id: \"WyIxa2dlbm9tZXMiLCJiIiwiSEcwMDEwMSJd\"\n",
      "variant_set_ids: \"WyIxa2dlbm9tZXMiLCJ2cyIsInBoYXNlMy1yZWxlYXNlIl0\"\n",
      "\n"
     ]
    }
   ],
   "source": [
    "call_set = c.get_call_set(call_set_id=call_set.id)\n",
    "print call_set"
   ]
  },
  {
   "cell_type": "markdown",
   "metadata": {},
   "source": [
    "### Making a Search Variants Request with Call Set IDs\n",
    "By passing in a list of `call_set_ids` to the variants search method, we can get in return\n",
    "a set of variants with the list of calls that belong to that variant. The `genotype` field of a Call states whether the variation was observed for a given sample."
   ]
  },
  {
   "cell_type": "code",
   "execution_count": 9,
   "metadata": {
    "collapsed": false
   },
   "outputs": [
    {
     "name": "stdout",
     "output_type": "stream",
     "text": [
      "Variant Id: WyIxa2dlbm9tZXMiLCJ2cyIsInBoYXNlMy1yZWxlYXNlIiwiMSIsIjEwMTc2IiwiZDAxNmM0ZTFhZGNhZDVkMWJjODljMmNhNGFkYmEzYTgiXQ\n",
      "Variant Set Id: WyIxa2dlbm9tZXMiLCJ2cyIsInBoYXNlMy1yZWxlYXNlIl0\n",
      "Names:[u'rs367896724']\n",
      "Reference Chromosome: 1\n",
      "Start: 10176, End: 10177\n",
      "Reference Bases: A\n",
      "Alternate Bases: [u'AC']\n",
      "\n",
      "  Call Set Name: HG00096\n",
      "  Genotype: [1, 0]\n",
      "  Phase set: True\n",
      "  Call Set Id: WyIxa2dlbm9tZXMiLCJ2cyIsInBoYXNlMy1yZWxlYXNlIiwiSEcwMDA5NiJd\n",
      "\n",
      "  Call Set Name: HG00097\n",
      "  Genotype: [0, 1]\n",
      "  Phase set: True\n",
      "  Call Set Id: WyIxa2dlbm9tZXMiLCJ2cyIsInBoYXNlMy1yZWxlYXNlIiwiSEcwMDA5NyJd\n",
      "\n",
      "  Call Set Name: HG00099\n",
      "  Genotype: [0, 1]\n",
      "  Phase set: True\n",
      "  Call Set Id: WyIxa2dlbm9tZXMiLCJ2cyIsInBoYXNlMy1yZWxlYXNlIiwiSEcwMDA5OSJd\n",
      "\n",
      "  Call Set Name: HG00100\n",
      "  Genotype: [1, 0]\n",
      "  Phase set: True\n",
      "  Call Set Id: WyIxa2dlbm9tZXMiLCJ2cyIsInBoYXNlMy1yZWxlYXNlIiwiSEcwMDEwMCJd\n",
      "\n",
      "Variant Id: WyIxa2dlbm9tZXMiLCJ2cyIsInBoYXNlMy1yZWxlYXNlIiwiMSIsIjEwMjM0IiwiMGNlMzUwNzI0NDYxNGMzNzA1ZjVlMmFhMmQxMGFmMjUiXQ\n",
      "Variant Set Id: WyIxa2dlbm9tZXMiLCJ2cyIsInBoYXNlMy1yZWxlYXNlIl0\n",
      "Names:[u'rs540431307']\n",
      "Reference Chromosome: 1\n",
      "Start: 10234, End: 10235\n",
      "Reference Bases: T\n",
      "Alternate Bases: [u'TA']\n",
      "\n",
      "  Call Set Name: HG00096\n",
      "  Genotype: [0, 0]\n",
      "  Phase set: True\n",
      "  Call Set Id: WyIxa2dlbm9tZXMiLCJ2cyIsInBoYXNlMy1yZWxlYXNlIiwiSEcwMDA5NiJd\n",
      "\n",
      "  Call Set Name: HG00097\n",
      "  Genotype: [0, 0]\n",
      "  Phase set: True\n",
      "  Call Set Id: WyIxa2dlbm9tZXMiLCJ2cyIsInBoYXNlMy1yZWxlYXNlIiwiSEcwMDA5NyJd\n",
      "\n",
      "  Call Set Name: HG00099\n",
      "  Genotype: [0, 0]\n",
      "  Phase set: True\n",
      "  Call Set Id: WyIxa2dlbm9tZXMiLCJ2cyIsInBoYXNlMy1yZWxlYXNlIiwiSEcwMDA5OSJd\n",
      "\n",
      "  Call Set Name: HG00100\n",
      "  Genotype: [0, 0]\n",
      "  Phase set: True\n",
      "  Call Set Id: WyIxa2dlbm9tZXMiLCJ2cyIsInBoYXNlMy1yZWxlYXNlIiwiSEcwMDEwMCJd\n",
      "\n",
      "Variant Id: WyIxa2dlbm9tZXMiLCJ2cyIsInBoYXNlMy1yZWxlYXNlIiwiMSIsIjEwMzUxIiwiMGNlMzUwNzI0NDYxNGMzNzA1ZjVlMmFhMmQxMGFmMjUiXQ\n",
      "Variant Set Id: WyIxa2dlbm9tZXMiLCJ2cyIsInBoYXNlMy1yZWxlYXNlIl0\n",
      "Names:[u'rs555500075']\n",
      "Reference Chromosome: 1\n",
      "Start: 10351, End: 10352\n",
      "Reference Bases: T\n",
      "Alternate Bases: [u'TA']\n",
      "\n",
      "  Call Set Name: HG00096\n",
      "  Genotype: [1, 0]\n",
      "  Phase set: True\n",
      "  Call Set Id: WyIxa2dlbm9tZXMiLCJ2cyIsInBoYXNlMy1yZWxlYXNlIiwiSEcwMDA5NiJd\n",
      "\n",
      "  Call Set Name: HG00097\n",
      "  Genotype: [1, 0]\n",
      "  Phase set: True\n",
      "  Call Set Id: WyIxa2dlbm9tZXMiLCJ2cyIsInBoYXNlMy1yZWxlYXNlIiwiSEcwMDA5NyJd\n",
      "\n",
      "  Call Set Name: HG00099\n",
      "  Genotype: [0, 1]\n",
      "  Phase set: True\n",
      "  Call Set Id: WyIxa2dlbm9tZXMiLCJ2cyIsInBoYXNlMy1yZWxlYXNlIiwiSEcwMDA5OSJd\n",
      "\n",
      "  Call Set Name: HG00100\n",
      "  Genotype: [0, 1]\n",
      "  Phase set: True\n",
      "  Call Set Id: WyIxa2dlbm9tZXMiLCJ2cyIsInBoYXNlMy1yZWxlYXNlIiwiSEcwMDEwMCJd\n",
      "\n"
     ]
    }
   ],
   "source": [
    "for variant_with_calls in  c.search_variants(call_set_ids=list_of_callset_ids, variant_set_id=\"WyIxa2dlbm9tZXMiLCJ2cyIsInBoYXNlMy1yZWxlYXNlIl0\", reference_name=\"1\", start=10176, end= 10502):\n",
    "    print \"Variant Id: {}\".format(variant_with_calls.id)\n",
    "    print \"Variant Set Id: {}\".format(variant_with_calls.variant_set_id)\n",
    "    print \"Names:{}\".format(variant_with_calls.names)\n",
    "    print \"Reference Chromosome: {}\".format(variant_with_calls.reference_name)\n",
    "    print \"Start: {}, End: {}\".format(variant_with_calls.start, variant_with_calls.end)\n",
    "    print \"Reference Bases: {}\".format(variant_with_calls.reference_bases)\n",
    "    print \"Alternate Bases: {}\\n\".format(variant_with_calls.alternate_bases)\n",
    "    for call in variant_with_calls.calls:\n",
    "        print \"  Call Set Name: {}\".format(call.call_set_name)\n",
    "        print \"  Genotype: {}\".format(call.genotype)\n",
    "        print \"  Phase set: {}\".format(call.phaseset)\n",
    "        print \"  Call Set Id: {}\\n\".format(call.call_set_id)"
   ]
  },
  {
   "cell_type": "markdown",
   "metadata": {},
   "source": [
    "###### We have searched for variants using Call Set IDs to find individual genetic variations. If the list of calls in the search was increased, more calls would have been returned in the variant search. \n",
    "###### Getting a variant by ID also returns this information for all the available calls. \n",
    "###### For more information and documentation on the Variant service, \n",
    "https://ga4gh-schemas.readthedocs.io/en/latest/schemas/variant_service.proto.html"
   ]
  }
 ],
 "metadata": {
  "kernelspec": {
   "display_name": "Python 2",
   "language": "python",
   "name": "python2"
  },
  "language_info": {
   "codemirror_mode": {
    "name": "ipython",
    "version": 2
   },
   "file_extension": ".py",
   "mimetype": "text/x-python",
   "name": "python",
   "nbconvert_exporter": "python",
   "pygments_lexer": "ipython2",
   "version": "2.7.11"
  },
  "widgets": {
   "state": {},
   "version": "1.1.1"
  }
 },
 "nbformat": 4,
 "nbformat_minor": 0
}
